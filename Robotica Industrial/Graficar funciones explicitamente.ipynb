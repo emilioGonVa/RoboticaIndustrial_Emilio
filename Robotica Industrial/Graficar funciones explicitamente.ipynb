{
 "cells": [
  {
   "cell_type": "code",
   "execution_count": 16,
   "metadata": {},
   "outputs": [
    {
     "data": {
      "text/plain": [
       "-1.532088886237956"
      ]
     },
     "execution_count": 16,
     "metadata": {},
     "output_type": "execute_result"
    },
    {
     "data": {
      "image/png": "[encoded data removed]",
      "text/plain": [
       "<Figure size 432x288 with 1 Axes>"
      ]
     },
     "metadata": {
      "needs_background": "light"
     },
     "output_type": "display_data"
    }
   ],
   "source": [
    "%matplotlib inline\n",
    "import matplotlib.pylab as plt\n",
    "import numpy as np\n",
    "y = x**3 -3*x - 1\n",
    "yprime = 3*x**2-3\n",
    "x_n = -3\n",
    "\n",
    "for i in range(0,100,1):\n",
    "    y_n = x_n**3-3*x_n-1\n",
    "    y_nprime = 3*x_n**2-3\n",
    "    if y_n == 0:\n",
    "        break;\n",
    "\n",
    "    x_n = x_n - (y_n/y_nprime) \n",
    "\n",
    "\n",
    "\n",
    "x = np.arange(-5,5,0.1)\n",
    "\n",
    "plt.plot(x,y)\n",
    "plt.grid()\n",
    "plt.scatter(x_n,0)\n",
    "x_n"
   ]
  },
  {
   "cell_type": "code",
   "execution_count": 17,
   "metadata": {},
   "outputs": [
    {
     "data": {
      "text/plain": [
       "array([ 1.87938524, -1.53208889, -0.34729636])"
      ]
     },
     "execution_count": 17,
     "metadata": {},
     "output_type": "execute_result"
    }
   ],
   "source": [
    "np.roots([1,0,-3,-1])"
   ]
  },
  {
   "cell_type": "code",
   "execution_count": 33,
   "metadata": {},
   "outputs": [
    {
     "data": {
      "image/png": "[encoded data removed]",
      "text/latex": [
       "$\\displaystyle -1.532088886237956$"
      ],
      "text/plain": [
       "-1.532088886237956"
      ]
     },
     "execution_count": 33,
     "metadata": {},
     "output_type": "execute_result"
    }
   ],
   "source": [
    "f=lambda x: x**3 - 3*x -1\n",
    "df=lambda x: 3*x**2 -3\n",
    "\n",
    "x=[]\n",
    "x.append(-3)\n",
    "for i in range(50):\n",
    "    xn=x[i]\n",
    "    x.append(xn-f(xn)/df(xn))\n",
    "\n",
    "x[-1]"
   ]
  },
  {
   "cell_type": "code",
   "execution_count": 36,
   "metadata": {},
   "outputs": [],
   "source": [
    "%matplotlib notebook\n",
    "%matplotlib notebook\n",
    "%matplotlib notebook\n",
    "%matplotlib notebook\n",
    "%matplotlib notebook\n",
    "%matplotlib notebook\n",
    "import matplotlib.pyplot as plt\n",
    "\n",
    "from sympy import*\n",
    "init_printing()"
   ]
  },
  {
   "cell_type": "code",
   "execution_count": 37,
   "metadata": {},
   "outputs": [
    {
     "data": {
      "image/png": "[encoded data removed]",
      "text/latex": [
       "$\\displaystyle \\left( x, \\  y\\right)$"
      ],
      "text/plain": [
       "(x, y)"
      ]
     },
     "execution_count": 37,
     "metadata": {},
     "output_type": "execute_result"
    }
   ],
   "source": [
    "x,y = var('x y')\n",
    "x,y"
   ]
  },
  {
   "cell_type": "code",
   "execution_count": 38,
   "metadata": {},
   "outputs": [
    {
     "data": {
      "application/javascript": [
       "/* Put everything inside the global mpl namespace */\n",
       "window.mpl = {};\n",
       "\n",
       "\n",
       "mpl.get_websocket_type = function() {\n",
       "    if (typeof(WebSocket) !== 'undefined') {\n",
       "        return WebSocket;\n",
       "    } else if (typeof(MozWebSocket) !== 'undefined') {\n",
       "        return MozWebSocket;\n",
       "    } else {\n",
       "        alert('Your browser does not have WebSocket support. ' +\n",
       "              'Please try Chrome, Safari or Firefox ≥ 6. ' +\n",
       "              'Firefox 4 and 5 are also supported but you ' +\n",
       "              'have to enable WebSockets in about:config.');\n",
       "    };\n",
       "}\n",
       "\n",
       "mpl.figure = function(figure_id, websocket, ondownload, parent_element) {\n",
       "    this.id = figure_id;\n",
       "\n",
       "    this.ws = websocket;\n",
       "\n",
       "    this.supports_binary = (this.ws.binaryType != undefined);\n",
       "\n",
       "    if (!this.supports_binary) {\n",
       "        var warnings = document.getElementById(\"mpl-warnings\");\n",
       "        if (warnings) {\n",
       "            warnings.style.display = 'block';\n",
       "            warnings.textContent = (\n",
       "                \"This browser does not support binary websocket messages. \" +\n",
       "                    \"Performance may be slow.\");\n",
       "        }\n",
       "    }\n",
       "\n",
       "    this.imageObj = new Image();\n",
       "\n",
       "    this.context = undefined;\n",
       "    this.message = undefined;\n",
       "    this.canvas = undefined;\n",
       "    this.rubberband_canvas = undefined;\n",
       "    this.rubberband_context = undefined;\n",
       "    this.format_dropdown = undefined;\n",
       "\n",
       "    this.image_mode = 'full';\n",
       "\n",
       "    this.root = $('<div/>');\n",
       "    this._root_extra_style(this.root)\n",
       "    this.root.attr('style', 'display: inline-block');\n",
       "\n",
       "    $(parent_element).append(this.root);\n",
       "\n",
       "    this._init_header(this);\n",
       "    this._init_canvas(this);\n",
       "    this._init_toolbar(this);\n",
       "\n",
       "    var fig = this;\n",
       "\n",
       "    this.waiting = false;\n",
       "\n",
       "    this.ws.onopen =  function () {\n",
       "            fig.send_message(\"supports_binary\", {value: fig.supports_binary});\n",
       "            fig.send_message(\"send_image_mode\", {});\n",
       "            if (mpl.ratio != 1) {\n",
       "                fig.send_message(\"set_dpi_ratio\", {'dpi_ratio': mpl.ratio});\n",
       "            }\n",
       "            fig.send_message(\"refresh\", {});\n",
       "        }\n",
       "\n",
       "    this.imageObj.onload = function() {\n",
       "            if (fig.image_mode == 'full') {\n",
       "                // Full images could contain transparency (where diff images\n",
       "                // almost always do), so we need to clear the canvas so that\n",
       "                // there is no ghosting.\n",
       "                fig.context.clearRect(0, 0, fig.canvas.width, fig.canvas.height);\n",
       "            }\n",
       "            fig.context.drawImage(fig.imageObj, 0, 0);\n",
       "        };\n",
       "\n",
       "    this.imageObj.onunload = function() {\n",
       "        fig.ws.close();\n",
       "    }\n",
       "\n",
       "    this.ws.onmessage = this._make_on_message_function(this);\n",
       "\n",
       "    this.ondownload = ondownload;\n",
       "}\n",
       "\n",
       "mpl.figure.prototype._init_header = function() {\n",
       "    var titlebar = $(\n",
       "        '<div class=\"ui-dialog-titlebar ui-widget-header ui-corner-all ' +\n",
       "        'ui-helper-clearfix\"/>');\n",
       "    var titletext = $(\n",
       "        '<div class=\"ui-dialog-title\" style=\"width: 100%; ' +\n",
       "        'text-align: center; padding: 3px;\"/>');\n",
       "    titlebar.append(titletext)\n",
       "    this.root.append(titlebar);\n",
       "    this.header = titletext[0];\n",
       "}\n",
       "\n",
       "\n",
       "\n",
       "mpl.figure.prototype._canvas_extra_style = function(canvas_div) {\n",
       "\n",
       "}\n",
       "\n",
       "\n",
       "mpl.figure.prototype._root_extra_style = function(canvas_div) {\n",
       "\n",
       "}\n",
       "\n",
       "mpl.figure.prototype._init_canvas = function() {\n",
       "    var fig = this;\n",
       "\n",
       "    var canvas_div = $('<div/>');\n",
       "\n",
       "    canvas_div.attr('style', 'position: relative; clear: both; outline: 0');\n",
       "\n",
       "    function canvas_keyboard_event(event) {\n",
       "        return fig.key_event(event, event['data']);\n",
       "    }\n",
       "\n",
       "    canvas_div.keydown('key_press', canvas_keyboard_event);\n",
       "    canvas_div.keyup('key_release', canvas_keyboard_event);\n",
       "    this.canvas_div = canvas_div\n",
       "    this._canvas_extra_style(canvas_div)\n",
       "    this.root.append(canvas_div);\n",
       "\n",
       "    var canvas = $('<canvas/>');\n",
       "    canvas.addClass('mpl-canvas');\n",
       "    canvas.attr('style', \"left: 0; top: 0; z-index: 0; outline: 0\")\n",
       "\n",
       "    this.canvas = canvas[0];\n",
       "    this.context = canvas[0].getContext(\"2d\");\n",
       "\n",
       "    var backingStore = this.context.backingStorePixelRatio ||\n",
       "\tthis.context.webkitBackingStorePixelRatio ||\n",
       "\tthis.context.mozBackingStorePixelRatio ||\n",
       "\tthis.context.msBackingStorePixelRatio ||\n",
       "\tthis.context.oBackingStorePixelRatio ||\n",
       "\tthis.context.backingStorePixelRatio || 1;\n",
       "\n",
       "    mpl.ratio = (window.devicePixelRatio || 1) / backingStore;\n",
       "\n",
       "    var rubberband = $('<canvas/>');\n",
       "    rubberband.attr('style', \"position: absolute; left: 0; top: 0; z-index: 1;\")\n",
       "\n",
       "    var pass_mouse_events = true;\n",
       "\n",
       "    canvas_div.resizable({\n",
       "        start: function(event, ui) {\n",
       "            pass_mouse_events = false;\n",
       "        },\n",
       "        resize: function(event, ui) {\n",
       "            fig.request_resize(ui.size.width, ui.size.height);\n",
       "        },\n",
       "        stop: function(event, ui) {\n",
       "            pass_mouse_events = true;\n",
       "            fig.request_resize(ui.size.width, ui.size.height);\n",
       "        },\n",
       "    });\n",
       "\n",
       "    function mouse_event_fn(event) {\n",
       "        if (pass_mouse_events)\n",
       "            return fig.mouse_event(event, event['data']);\n",
       "    }\n",
       "\n",
       "    rubberband.mousedown('button_press', mouse_event_fn);\n",
       "    rubberband.mouseup('button_release', mouse_event_fn);\n",
       "    // Throttle sequential mouse events to 1 every 20ms.\n",
       "    rubberband.mousemove('motion_notify', mouse_event_fn);\n",
       "\n",
       "    rubberband.mouseenter('figure_enter', mouse_event_fn);\n",
       "    rubberband.mouseleave('figure_leave', mouse_event_fn);\n",
       "\n",
       "    canvas_div.on(\"wheel\", function (event) {\n",
       "        event = event.originalEvent;\n",
       "        event['data'] = 'scroll'\n",
       "        if (event.deltaY < 0) {\n",
       "            event.step = 1;\n",
       "        } else {\n",
       "            event.step = -1;\n",
       "        }\n",
       "        mouse_event_fn(event);\n",
       "    });\n",
       "\n",
       "    canvas_div.append(canvas);\n",
       "    canvas_div.append(rubberband);\n",
       "\n",
       "    this.rubberband = rubberband;\n",
       "    this.rubberband_canvas = rubberband[0];\n",
       "    this.rubberband_context = rubberband[0].getContext(\"2d\");\n",
       "    this.rubberband_context.strokeStyle = \"#000000\";\n",
       "\n",
       "    this._resize_canvas = function(width, height) {\n",
       "        // Keep the size of the canvas, canvas container, and rubber band\n",
       "        // canvas in synch.\n",
       "        canvas_div.css('width', width)\n",
       "        canvas_div.css('height', height)\n",
       "\n",
       "        canvas.attr('width', width * mpl.ratio);\n",
       "        canvas.attr('height', height * mpl.ratio);\n",
       "        canvas.attr('style', 'width: ' + width + 'px; height: ' + height + 'px;');\n",
       "\n",
       "        rubberband.attr('width', width);\n",
       "        rubberband.attr('height', height);\n",
       "    }\n",
       "\n",
       "    // Set the figure to an initial 600x600px, this will subsequently be updated\n",
       "    // upon first draw.\n",
       "    this._resize_canvas(600, 600);\n",
       "\n",
       "    // Disable right mouse context menu.\n",
       "    $(this.rubberband_canvas).bind(\"contextmenu\",function(e){\n",
       "        return false;\n",
       "    });\n",
       "\n",
       "    function set_focus () {\n",
       "        canvas.focus();\n",
       "        canvas_div.focus();\n",
       "    }\n",
       "\n",
       "    window.setTimeout(set_focus, 100);\n",
       "}\n",
       "\n",
       "mpl.figure.prototype._init_toolbar = function() {\n",
       "    var fig = this;\n",
       "\n",
       "    var nav_element = $('<div/>');\n",
       "    nav_element.attr('style', 'width: 100%');\n",
       "    this.root.append(nav_element);\n",
       "\n",
       "    // Define a callback function for later on.\n",
       "    function toolbar_event(event) {\n",
       "        return fig.toolbar_button_onclick(event['data']);\n",
       "    }\n",
       "    function toolbar_mouse_event(event) {\n",
       "        return fig.toolbar_button_onmouseover(event['data']);\n",
       "    }\n",
       "\n",
       "    for(var toolbar_ind in mpl.toolbar_items) {\n",
       "        var name = mpl.toolbar_items[toolbar_ind][0];\n",
       "        var tooltip = mpl.toolbar_items[toolbar_ind][1];\n",
       "        var image = mpl.toolbar_items[toolbar_ind][2];\n",
       "        var method_name = mpl.toolbar_items[toolbar_ind][3];\n",
       "\n",
       "        if (!name) {\n",
       "            // put a spacer in here.\n",
       "            continue;\n",
       "        }\n",
       "        var button = $('<button/>');\n",
       "        button.addClass('ui-button ui-widget ui-state-default ui-corner-all ' +\n",
       "                        'ui-button-icon-only');\n",
       "        button.attr('role', 'button');\n",
       "        button.attr('aria-disabled', 'false');\n",
       "        button.click(method_name, toolbar_event);\n",
       "        button.mouseover(tooltip, toolbar_mouse_event);\n",
       "\n",
       "        var icon_img = $('<span/>');\n",
       "        icon_img.addClass('ui-button-icon-primary ui-icon');\n",
       "        icon_img.addClass(image);\n",
       "        icon_img.addClass('ui-corner-all');\n",
       "\n",
       "        var tooltip_span = $('<span/>');\n",
       "        tooltip_span.addClass('ui-button-text');\n",
       "        tooltip_span.html(tooltip);\n",
       "\n",
       "        button.append(icon_img);\n",
       "        button.append(tooltip_span);\n",
       "\n",
       "        nav_element.append(button);\n",
       "    }\n",
       "\n",
       "    var fmt_picker_span = $('<span/>');\n",
       "\n",
       "    var fmt_picker = $('<select/>');\n",
       "    fmt_picker.addClass('mpl-toolbar-option ui-widget ui-widget-content');\n",
       "    fmt_picker_span.append(fmt_picker);\n",
       "    nav_element.append(fmt_picker_span);\n",
       "    this.format_dropdown = fmt_picker[0];\n",
       "\n",
       "    for (var ind in mpl.extensions) {\n",
       "        var fmt = mpl.extensions[ind];\n",
       "        var option = $(\n",
       "            '<option/>', {selected: fmt === mpl.default_extension}).html(fmt);\n",
       "        fmt_picker.append(option);\n",
       "    }\n",
       "\n",
       "    // Add hover states to the ui-buttons\n",
       "    $( \".ui-button\" ).hover(\n",
       "        function() { $(this).addClass(\"ui-state-hover\");},\n",
       "        function() { $(this).removeClass(\"ui-state-hover\");}\n",
       "    );\n",
       "\n",
       "    var status_bar = $('<span class=\"mpl-message\"/>');\n",
       "    nav_element.append(status_bar);\n",
       "    this.message = status_bar[0];\n",
       "}\n",
       "\n",
       "mpl.figure.prototype.request_resize = function(x_pixels, y_pixels) {\n",
       "    // Request matplotlib to resize the figure. Matplotlib will then trigger a resize in the client,\n",
       "    // which will in turn request a refresh of the image.\n",
       "    this.send_message('resize', {'width': x_pixels, 'height': y_pixels});\n",
       "}\n",
       "\n",
       "mpl.figure.prototype.send_message = function(type, properties) {\n",
       "    properties['type'] = type;\n",
       "    properties['figure_id'] = this.id;\n",
       "    this.ws.send(JSON.stringify(properties));\n",
       "}\n",
       "\n",
       "mpl.figure.prototype.send_draw_message = function() {\n",
       "    if (!this.waiting) {\n",
       "        this.waiting = true;\n",
       "        this.ws.send(JSON.stringify({type: \"draw\", figure_id: this.id}));\n",
       "    }\n",
       "}\n",
       "\n",
       "\n",
       "mpl.figure.prototype.handle_save = function(fig, msg) {\n",
       "    var format_dropdown = fig.format_dropdown;\n",
       "    var format = format_dropdown.options[format_dropdown.selectedIndex].value;\n",
       "    fig.ondownload(fig, format);\n",
       "}\n",
       "\n",
       "\n",
       "mpl.figure.prototype.handle_resize = function(fig, msg) {\n",
       "    var size = msg['size'];\n",
       "    if (size[0] != fig.canvas.width || size[1] != fig.canvas.height) {\n",
       "        fig._resize_canvas(size[0], size[1]);\n",
       "        fig.send_message(\"refresh\", {});\n",
       "    };\n",
       "}\n",
       "\n",
       "mpl.figure.prototype.handle_rubberband = function(fig, msg) {\n",
       "    var x0 = msg['x0'] / mpl.ratio;\n",
       "    var y0 = (fig.canvas.height - msg['y0']) / mpl.ratio;\n",
       "    var x1 = msg['x1'] / mpl.ratio;\n",
       "    var y1 = (fig.canvas.height - msg['y1']) / mpl.ratio;\n",
       "    x0 = Math.floor(x0) + 0.5;\n",
       "    y0 = Math.floor(y0) + 0.5;\n",
       "    x1 = Math.floor(x1) + 0.5;\n",
       "    y1 = Math.floor(y1) + 0.5;\n",
       "    var min_x = Math.min(x0, x1);\n",
       "    var min_y = Math.min(y0, y1);\n",
       "    var width = Math.abs(x1 - x0);\n",
       "    var height = Math.abs(y1 - y0);\n",
       "\n",
       "    fig.rubberband_context.clearRect(\n",
       "        0, 0, fig.canvas.width / mpl.ratio, fig.canvas.height / mpl.ratio);\n",
       "\n",
       "    fig.rubberband_context.strokeRect(min_x, min_y, width, height);\n",
       "}\n",
       "\n",
       "mpl.figure.prototype.handle_figure_label = function(fig, msg) {\n",
       "    // Updates the figure title.\n",
       "    fig.header.textContent = msg['label'];\n",
       "}\n",
       "\n",
       "mpl.figure.prototype.handle_cursor = function(fig, msg) {\n",
       "    var cursor = msg['cursor'];\n",
       "    switch(cursor)\n",
       "    {\n",
       "    case 0:\n",
       "        cursor = 'pointer';\n",
       "        break;\n",
       "    case 1:\n",
       "        cursor = 'default';\n",
       "        break;\n",
       "    case 2:\n",
       "        cursor = 'crosshair';\n",
       "        break;\n",
       "    case 3:\n",
       "        cursor = 'move';\n",
       "        break;\n",
       "    }\n",
       "    fig.rubberband_canvas.style.cursor = cursor;\n",
       "}\n",
       "\n",
       "mpl.figure.prototype.handle_message = function(fig, msg) {\n",
       "    fig.message.textContent = msg['message'];\n",
       "}\n",
       "\n",
       "mpl.figure.prototype.handle_draw = function(fig, msg) {\n",
       "    // Request the server to send over a new figure.\n",
       "    fig.send_draw_message();\n",
       "}\n",
       "\n",
       "mpl.figure.prototype.handle_image_mode = function(fig, msg) {\n",
       "    fig.image_mode = msg['mode'];\n",
       "}\n",
       "\n",
       "mpl.figure.prototype.updated_canvas_event = function() {\n",
       "    // Called whenever the canvas gets updated.\n",
       "    this.send_message(\"ack\", {});\n",
       "}\n",
       "\n",
       "// A function to construct a web socket function for onmessage handling.\n",
       "// Called in the figure constructor.\n",
       "mpl.figure.prototype._make_on_message_function = function(fig) {\n",
       "    return function socket_on_message(evt) {\n",
       "        if (evt.data instanceof Blob) {\n",
       "            /* FIXME: We get \"Resource interpreted as Image but\n",
       "             * transferred with MIME type text/plain:\" errors on\n",
       "             * Chrome.  But how to set the MIME type?  It doesn't seem\n",
       "             * to be part of the websocket stream */\n",
       "            evt.data.type = \"image/png\";\n",
       "\n",
       "            /* Free the memory for the previous frames */\n",
       "            if (fig.imageObj.src) {\n",
       "                (window.URL || window.webkitURL).revokeObjectURL(\n",
       "                    fig.imageObj.src);\n",
       "            }\n",
       "\n",
       "            fig.imageObj.src = (window.URL || window.webkitURL).createObjectURL(\n",
       "                evt.data);\n",
       "            fig.updated_canvas_event();\n",
       "            fig.waiting = false;\n",
       "            return;\n",
       "        }\n",
       "        else if (typeof evt.data === 'string' && evt.data.slice(0, 21) == \"data:image/png;base64\") {\n",
       "            fig.imageObj.src = evt.data;\n",
       "            fig.updated_canvas_event();\n",
       "            fig.waiting = false;\n",
       "            return;\n",
       "        }\n",
       "\n",
       "        var msg = JSON.parse(evt.data);\n",
       "        var msg_type = msg['type'];\n",
       "\n",
       "        // Call the  \"handle_{type}\" callback, which takes\n",
       "        // the figure and JSON message as its only arguments.\n",
       "        try {\n",
       "            var callback = fig[\"handle_\" + msg_type];\n",
       "        } catch (e) {\n",
       "            console.log(\"No handler for the '\" + msg_type + \"' message type: \", msg);\n",
       "            return;\n",
       "        }\n",
       "\n",
       "        if (callback) {\n",
       "            try {\n",
       "                // console.log(\"Handling '\" + msg_type + \"' message: \", msg);\n",
       "                callback(fig, msg);\n",
       "            } catch (e) {\n",
       "                console.log(\"Exception inside the 'handler_\" + msg_type + \"' callback:\", e, e.stack, msg);\n",
       "            }\n",
       "        }\n",
       "    };\n",
       "}\n",
       "\n",
       "// from http://stackoverflow.com/questions/1114465/getting-mouse-location-in-canvas\n",
       "mpl.findpos = function(e) {\n",
       "    //this section is from http://www.quirksmode.org/js/events_properties.html\n",
       "    var targ;\n",
       "    if (!e)\n",
       "        e = window.event;\n",
       "    if (e.target)\n",
       "        targ = e.target;\n",
       "    else if (e.srcElement)\n",
       "        targ = e.srcElement;\n",
       "    if (targ.nodeType == 3) // defeat Safari bug\n",
       "        targ = targ.parentNode;\n",
       "\n",
       "    // jQuery normalizes the pageX and pageY\n",
       "    // pageX,Y are the mouse positions relative to the document\n",
       "    // offset() returns the position of the element relative to the document\n",
       "    var x = e.pageX - $(targ).offset().left;\n",
       "    var y = e.pageY - $(targ).offset().top;\n",
       "\n",
       "    return {\"x\": x, \"y\": y};\n",
       "};\n",
       "\n",
       "/*\n",
       " * return a copy of an object with only non-object keys\n",
       " * we need this to avoid circular references\n",
       " * http://stackoverflow.com/a/24161582/3208463\n",
       " */\n",
       "function simpleKeys (original) {\n",
       "  return Object.keys(original).reduce(function (obj, key) {\n",
       "    if (typeof original[key] !== 'object')\n",
       "        obj[key] = original[key]\n",
       "    return obj;\n",
       "  }, {});\n",
       "}\n",
       "\n",
       "mpl.figure.prototype.mouse_event = function(event, name) {\n",
       "    var canvas_pos = mpl.findpos(event)\n",
       "\n",
       "    if (name === 'button_press')\n",
       "    {\n",
       "        this.canvas.focus();\n",
       "        this.canvas_div.focus();\n",
       "    }\n",
       "\n",
       "    var x = canvas_pos.x * mpl.ratio;\n",
       "    var y = canvas_pos.y * mpl.ratio;\n",
       "\n",
       "    this.send_message(name, {x: x, y: y, button: event.button,\n",
       "                             step: event.step,\n",
       "                             guiEvent: simpleKeys(event)});\n",
       "\n",
       "    /* This prevents the web browser from automatically changing to\n",
       "     * the text insertion cursor when the button is pressed.  We want\n",
       "     * to control all of the cursor setting manually through the\n",
       "     * 'cursor' event from matplotlib */\n",
       "    event.preventDefault();\n",
       "    return false;\n",
       "}\n",
       "\n",
       "mpl.figure.prototype._key_event_extra = function(event, name) {\n",
       "    // Handle any extra behaviour associated with a key event\n",
       "}\n",
       "\n",
       "mpl.figure.prototype.key_event = function(event, name) {\n",
       "\n",
       "    // Prevent repeat events\n",
       "    if (name == 'key_press')\n",
       "    {\n",
       "        if (event.which === this._key)\n",
       "            return;\n",
       "        else\n",
       "            this._key = event.which;\n",
       "    }\n",
       "    if (name == 'key_release')\n",
       "        this._key = null;\n",
       "\n",
       "    var value = '';\n",
       "    if (event.ctrlKey && event.which != 17)\n",
       "        value += \"ctrl+\";\n",
       "    if (event.altKey && event.which != 18)\n",
       "        value += \"alt+\";\n",
       "    if (event.shiftKey && event.which != 16)\n",
       "        value += \"shift+\";\n",
       "\n",
       "    value += 'k';\n",
       "    value += event.which.toString();\n",
       "\n",
       "    this._key_event_extra(event, name);\n",
       "\n",
       "    this.send_message(name, {key: value,\n",
       "                             guiEvent: simpleKeys(event)});\n",
       "    return false;\n",
       "}\n",
       "\n",
       "mpl.figure.prototype.toolbar_button_onclick = function(name) {\n",
       "    if (name == 'download') {\n",
       "        this.handle_save(this, null);\n",
       "    } else {\n",
       "        this.send_message(\"toolbar_button\", {name: name});\n",
       "    }\n",
       "};\n",
       "\n",
       "mpl.figure.prototype.toolbar_button_onmouseover = function(tooltip) {\n",
       "    this.message.textContent = tooltip;\n",
       "};\n",
       "mpl.toolbar_items = [[\"Home\", \"Reset original view\", \"fa fa-home icon-home\", \"home\"], [\"Back\", \"Back to previous view\", \"fa fa-arrow-left icon-arrow-left\", \"back\"], [\"Forward\", \"Forward to next view\", \"fa fa-arrow-right icon-arrow-right\", \"forward\"], [\"\", \"\", \"\", \"\"], [\"Pan\", \"Pan axes with left mouse, zoom with right\", \"fa fa-arrows icon-move\", \"pan\"], [\"Zoom\", \"Zoom to rectangle\", \"fa fa-square-o icon-check-empty\", \"zoom\"], [\"\", \"\", \"\", \"\"], [\"Download\", \"Download plot\", \"fa fa-floppy-o icon-save\", \"download\"]];\n",
       "\n",
       "mpl.extensions = [\"eps\", \"jpeg\", \"pdf\", \"png\", \"ps\", \"raw\", \"svg\", \"tif\"];\n",
       "\n",
       "mpl.default_extension = \"png\";var comm_websocket_adapter = function(comm) {\n",
       "    // Create a \"websocket\"-like object which calls the given IPython comm\n",
       "    // object with the appropriate methods. Currently this is a non binary\n",
       "    // socket, so there is still some room for performance tuning.\n",
       "    var ws = {};\n",
       "\n",
       "    ws.close = function() {\n",
       "        comm.close()\n",
       "    };\n",
       "    ws.send = function(m) {\n",
       "        //console.log('sending', m);\n",
       "        comm.send(m);\n",
       "    };\n",
       "    // Register the callback with on_msg.\n",
       "    comm.on_msg(function(msg) {\n",
       "        //console.log('receiving', msg['content']['data'], msg);\n",
       "        // Pass the mpl event to the overridden (by mpl) onmessage function.\n",
       "        ws.onmessage(msg['content']['data'])\n",
       "    });\n",
       "    return ws;\n",
       "}\n",
       "\n",
       "mpl.mpl_figure_comm = function(comm, msg) {\n",
       "    // This is the function which gets called when the mpl process\n",
       "    // starts-up an IPython Comm through the \"matplotlib\" channel.\n",
       "\n",
       "    var id = msg.content.data.id;\n",
       "    // Get hold of the div created by the display call when the Comm\n",
       "    // socket was opened in Python.\n",
       "    var element = $(\"#\" + id);\n",
       "    var ws_proxy = comm_websocket_adapter(comm)\n",
       "\n",
       "    function ondownload(figure, format) {\n",
       "        window.open(figure.imageObj.src);\n",
       "    }\n",
       "\n",
       "    var fig = new mpl.figure(id, ws_proxy,\n",
       "                           ondownload,\n",
       "                           element.get(0));\n",
       "\n",
       "    // Call onopen now - mpl needs it, as it is assuming we've passed it a real\n",
       "    // web socket which is closed, not our websocket->open comm proxy.\n",
       "    ws_proxy.onopen();\n",
       "\n",
       "    fig.parent_element = element.get(0);\n",
       "    fig.cell_info = mpl.find_output_cell(\"<div id='\" + id + \"'></div>\");\n",
       "    if (!fig.cell_info) {\n",
       "        console.error(\"Failed to find cell for figure\", id, fig);\n",
       "        return;\n",
       "    }\n",
       "\n",
       "    var output_index = fig.cell_info[2]\n",
       "    var cell = fig.cell_info[0];\n",
       "\n",
       "};\n",
       "\n",
       "mpl.figure.prototype.handle_close = function(fig, msg) {\n",
       "    var width = fig.canvas.width/mpl.ratio\n",
       "    fig.root.unbind('remove')\n",
       "\n",
       "    // Update the output cell to use the data from the current canvas.\n",
       "    fig.push_to_output();\n",
       "    var dataURL = fig.canvas.toDataURL();\n",
       "    // Re-enable the keyboard manager in IPython - without this line, in FF,\n",
       "    // the notebook keyboard shortcuts fail.\n",
       "    IPython.keyboard_manager.enable()\n",
       "    $(fig.parent_element).html('<img src=\"' + dataURL + '\" width=\"' + width + '\">');\n",
       "    fig.close_ws(fig, msg);\n",
       "}\n",
       "\n",
       "mpl.figure.prototype.close_ws = function(fig, msg){\n",
       "    fig.send_message('closing', msg);\n",
       "    // fig.ws.close()\n",
       "}\n",
       "\n",
       "mpl.figure.prototype.push_to_output = function(remove_interactive) {\n",
       "    // Turn the data on the canvas into data in the output cell.\n",
       "    var width = this.canvas.width/mpl.ratio\n",
       "    var dataURL = this.canvas.toDataURL();\n",
       "    this.cell_info[1]['text/html'] = '<img src=\"' + dataURL + '\" width=\"' + width + '\">';\n",
       "}\n",
       "\n",
       "mpl.figure.prototype.updated_canvas_event = function() {\n",
       "    // Tell IPython that the notebook contents must change.\n",
       "    IPython.notebook.set_dirty(true);\n",
       "    this.send_message(\"ack\", {});\n",
       "    var fig = this;\n",
       "    // Wait a second, then push the new image to the DOM so\n",
       "    // that it is saved nicely (might be nice to debounce this).\n",
       "    setTimeout(function () { fig.push_to_output() }, 1000);\n",
       "}\n",
       "\n",
       "mpl.figure.prototype._init_toolbar = function() {\n",
       "    var fig = this;\n",
       "\n",
       "    var nav_element = $('<div/>');\n",
       "    nav_element.attr('style', 'width: 100%');\n",
       "    this.root.append(nav_element);\n",
       "\n",
       "    // Define a callback function for later on.\n",
       "    function toolbar_event(event) {\n",
       "        return fig.toolbar_button_onclick(event['data']);\n",
       "    }\n",
       "    function toolbar_mouse_event(event) {\n",
       "        return fig.toolbar_button_onmouseover(event['data']);\n",
       "    }\n",
       "\n",
       "    for(var toolbar_ind in mpl.toolbar_items){\n",
       "        var name = mpl.toolbar_items[toolbar_ind][0];\n",
       "        var tooltip = mpl.toolbar_items[toolbar_ind][1];\n",
       "        var image = mpl.toolbar_items[toolbar_ind][2];\n",
       "        var method_name = mpl.toolbar_items[toolbar_ind][3];\n",
       "\n",
       "        if (!name) { continue; };\n",
       "\n",
       "        var button = $('<button class=\"btn btn-default\" href=\"#\" title=\"' + name + '\"><i class=\"fa ' + image + ' fa-lg\"></i></button>');\n",
       "        button.click(method_name, toolbar_event);\n",
       "        button.mouseover(tooltip, toolbar_mouse_event);\n",
       "        nav_element.append(button);\n",
       "    }\n",
       "\n",
       "    // Add the status bar.\n",
       "    var status_bar = $('<span class=\"mpl-message\" style=\"text-align:right; float: right;\"/>');\n",
       "    nav_element.append(status_bar);\n",
       "    this.message = status_bar[0];\n",
       "\n",
       "    // Add the close button to the window.\n",
       "    var buttongrp = $('<div class=\"btn-group inline pull-right\"></div>');\n",
       "    var button = $('<button class=\"btn btn-mini btn-primary\" href=\"#\" title=\"Stop Interaction\"><i class=\"fa fa-power-off icon-remove icon-large\"></i></button>');\n",
       "    button.click(function (evt) { fig.handle_close(fig, {}); } );\n",
       "    button.mouseover('Stop Interaction', toolbar_mouse_event);\n",
       "    buttongrp.append(button);\n",
       "    var titlebar = this.root.find($('.ui-dialog-titlebar'));\n",
       "    titlebar.prepend(buttongrp);\n",
       "}\n",
       "\n",
       "mpl.figure.prototype._root_extra_style = function(el){\n",
       "    var fig = this\n",
       "    el.on(\"remove\", function(){\n",
       "\tfig.close_ws(fig, {});\n",
       "    });\n",
       "}\n",
       "\n",
       "mpl.figure.prototype._canvas_extra_style = function(el){\n",
       "    // this is important to make the div 'focusable\n",
       "    el.attr('tabindex', 0)\n",
       "    // reach out to IPython and tell the keyboard manager to turn it's self\n",
       "    // off when our div gets focus\n",
       "\n",
       "    // location in version 3\n",
       "    if (IPython.notebook.keyboard_manager) {\n",
       "        IPython.notebook.keyboard_manager.register_events(el);\n",
       "    }\n",
       "    else {\n",
       "        // location in version 2\n",
       "        IPython.keyboard_manager.register_events(el);\n",
       "    }\n",
       "\n",
       "}\n",
       "\n",
       "mpl.figure.prototype._key_event_extra = function(event, name) {\n",
       "    var manager = IPython.notebook.keyboard_manager;\n",
       "    if (!manager)\n",
       "        manager = IPython.keyboard_manager;\n",
       "\n",
       "    // Check for shift+enter\n",
       "    if (event.shiftKey && event.which == 13) {\n",
       "        this.canvas_div.blur();\n",
       "        event.shiftKey = false;\n",
       "        // Send a \"J\" for go to next cell\n",
       "        event.which = 74;\n",
       "        event.keyCode = 74;\n",
       "        manager.command_mode();\n",
       "        manager.handle_keydown(event);\n",
       "    }\n",
       "}\n",
       "\n",
       "mpl.figure.prototype.handle_save = function(fig, msg) {\n",
       "    fig.ondownload(fig, null);\n",
       "}\n",
       "\n",
       "\n",
       "mpl.find_output_cell = function(html_output) {\n",
       "    // Return the cell and output element which can be found *uniquely* in the notebook.\n",
       "    // Note - this is a bit hacky, but it is done because the \"notebook_saving.Notebook\"\n",
       "    // IPython event is triggered only after the cells have been serialised, which for\n",
       "    // our purposes (turning an active figure into a static one), is too late.\n",
       "    var cells = IPython.notebook.get_cells();\n",
       "    var ncells = cells.length;\n",
       "    for (var i=0; i<ncells; i++) {\n",
       "        var cell = cells[i];\n",
       "        if (cell.cell_type === 'code'){\n",
       "            for (var j=0; j<cell.output_area.outputs.length; j++) {\n",
       "                var data = cell.output_area.outputs[j];\n",
       "                if (data.data) {\n",
       "                    // IPython >= 3 moved mimebundle to data attribute of output\n",
       "                    data = data.data;\n",
       "                }\n",
       "                if (data['text/html'] == html_output) {\n",
       "                    return [cell, data, j];\n",
       "                }\n",
       "            }\n",
       "        }\n",
       "    }\n",
       "}\n",
       "\n",
       "// Register the function which deals with the matplotlib target/channel.\n",
       "// The kernel may be null if the page has been refreshed.\n",
       "if (IPython.notebook.kernel != null) {\n",
       "    IPython.notebook.kernel.comm_manager.register_target('matplotlib', mpl.mpl_figure_comm);\n",
       "}\n"
      ],
      "text/plain": [
       "<IPython.core.display.Javascript object>"
      ]
     },
     "metadata": {},
     "output_type": "display_data"
    },
    {
     "data": {
      "text/html": [
       "<img src=\"data:image/png;base64,iVBORw0KGgoAAAANSUhEUgAAAbAAAAEgCAYAAADVKCZpAAAgAElEQVR4Xu2dC3zP1f/HX7uwi8uY+/1O5m4pd2rKteR+SZSEEBUVUalQpBISSy4RRYWfaBIJxeYaQyHMdRkzw+y+/+N92P4zu3y37+18vt/XeTz22Mznez7v83yffZ/fcz7ncz4uYCEBEiABEiABAxJwMWDMDJkESIAESIAEQIGxE5AACZAACRiSAAVmyLQxaBIgARIgAQqMfYAESIAESMCQBCgwQ6aNQZMACZAACVBg7AMkQAIkQAKGJECBGTJtDJoESIAESIACYx8gARIgARIwJAEKzJBpY9AkQAIkQAIUGPsACZAACZCAIQlQYIZMG4MmARIgARKgwNgHSIAESIAEDEmAAjNk2hg0CZAACZAABcY+QAIkQAIkYEgCFJgh08agSYAESIAEKDD2ARIgARIgAUMSoMAMmTYGTQIkQAIkQIGxD5AACZAACRiSAAVmyLQxaBIgARIgAQqMfYAESIAESMCQBCgwQ6aNQZMACZAACVBg7AMkQAIkQAKGJECBGTJtDJoESIAESIACYx8gARIgARIwJAEKzJBpY9AkQAIkQAIUGPsACZAACZCAIQlQYIZMG4MmARIgARKgwNgHjECgJIAWAMoCuA0gFMBeAMlGCJ4xkgAJWIcABWYdrqzVMgQeATAegC+AAwAuA/AEUBNANQDfA/gYQLRlTsdaSIAEjESAAjNStpwv1o8AzAFwNpOmuwPoAsANwA/Oh4YtJgESoMDYB0iABEiABAxJgAIzZNqcLuhlAEYBuH635ZUBfAUgwOlIsMEkQAJpBCgwdgYjEBgG4BUArwIoB+A1AGMBrDdC8IyRBEjAOgQoMOtwZa2WJ9ASwG8ArgBoBCDc8qdgjSRAAkYi4LACS0lJSTFSIhhr1gSWLVuG999/H++++y4OHTqETZs2YfHixWjQoAGxkQAJWJiAi4uLYbxgmEBzmyMKLLfE9D3+qaeeQmBgIEqWlNvBgJCQEAwbNgwHDsjKehYSIAFLEqDALEkzj3VRYHkEZ5CXxcfHI3/+/AaJlmGSgHEIUGAa5IoC0yAJZoYwZcoUjBgxAr6+ch/z/WXr1q2IiYlBly5yOxgLCZCAJQhQYJagaGYdFJiZADV4+bp16zBjxgx4enqicePGKFGiBGJjY3HixAkcPHgQ7dq1w5tvvql+z0ICJGAZAhSYZTiaVQsFZhY+LV78zDPPQBZwiMTk+telS5fg5eWF2rVro3Xr1upnFhIgAcsSoMAsyzNPtVFgecKm1Yv8/Pzw888/48knn8Rvv8kK+ntLVlOLWjWCwZCAwQhQYBokjALTIAlmhjB79mx88cUXOHXqFMqVk/uX7xS5Q0JW+srvWUiABCxLgAKzLM881UaB5Qmbli968cUXlchYSIAErE+AArM+4xzPQIHliIgH2IlAhw4dEBQUZKez87QkkDmBfyNu4r31R/H18w8b5v5gwwSa205HgeWWGI+3FYEHH3wQe/fK8zhZSEAPAjIt//TCYBy+cB2h73YwjBcME2hu00yB5ZYYj7cVAQrMVqR5HlMJ/Lj/PF5d9RemPFUXzzSrbBgvGCZQUxORehwFlltiPN5WBCgwW5HmeUwhEBUTj4CPf0fFYt74YXhzuLm5GsYLhgnUlESkP4YCyy0xHm8rAhSYrUjzPKYQGP/DIazedx4/vdQStcsUlhW+hvGCYQI1JREUWG4p8Xh7EKDA7EGd58yMwJ4zkeg1fxeGtq6KNzvVVodQYBr0FY7ANEgCQ8iUAAXGjqEDgYSkZHSevQM3YxOx+dU2KODhToHpkBiJgQLTJROMIyMBCox9QgcCX2z7F9OD/saXAx/EY36l0kLiCEyD7FBgGiTBwCEkJSVBRCM7gPz00084ffo0+vbti8jISLWxsOzRKI9ziYuLw8CBA7Fv3z4UK1YM3333HSpXrpxtyykwA3cMBwn97NVb6PDZDrSsXhyBAx+8p1UUmAZJpsA0SIKBQ/jkk0/UvVrR0dFKYL1790b37t2VxIYPH66eBi07hMybN089JXr+/Pn49ttvsWbNGiWx7AoFZuCO4QChJyffuecrJiER8/o3Rrmi3hSYbnmlwHTLiHHiOX/+PAYNGoSJEydCRLZ+/Xr1yJbw8HC4u7tj165dmDx5MjZt2oT27durn5s1a4bExESULl0aERERaq/GrAoFZpy+4IiRfr3rDN5edwQfdq+Hvg9VvK+JHIFpkHUKTIMkGDSEnj17YsKECbhx4wZmzpyJJUuWoGnTpjh58qRq0blz59CxY0eEhoaibt26aluo8uXLq/+rVq0agoODUbx4cQrMoPl35LDDZOpw1g40qeKLpc81yfSDFgWmQQ+gwDRIggFDkOnCjRs3qqnBbdu2KYEtXrxYjbDSC6xTp044fPgw6tSpo0Zi6QUWEhKiroelL4GBgZAvKTJCCwsLMyAdhmxkAjJ12DdwN46FR+OXV1qjjE/mz9OjwDTIMgWmQRIMGIKMvGSBhkwVytOf5RpYt27dlKQ4hWjAhDLkNAKLdp7Gez8dxUc966PXgxWyJEOBadBpKDANkmDwEFJHYDIq69WrF3r06JG2iKN+/foYMWIEPv/8czUSS13E8eOPP2LVqlXZtpzXwAzeMQwY/qmIm+g0eweaVyuOrwY9mO01WgpMgwRTYBokweAhpBeYPDwzdRl9o0aNsHz5cnh4eKhR2jPPPIMDBw5AnhAtKxGrVq1KgRk8944UflJyCoYs3YN9YdfUDculCntm2zwKTIPsU2AaJIEhZEqAIzB2DFsS+OzXE/hy+7+Y0as+OtUrm+OpKbAcEVn/AArM+ox5hrwRoMDyxo2vyj2BkNOR6Bu4C10blsOnfRqaVAEFZhIm6x5EgVmXL2vPOwEKLO/s+ErTCchjUjp9tgP53V3x0+hWKHh3r8OcaqDAciJkg/+nwGwAmafIEwEKLE/Y+KJcEJAnLA9btg+//XMZP77YAvXK+5j8agrMZFTWO5ACsx5b1mweAQrMPH58dc4Elu0Ow1trQzGxU2280Dr7RUUZa6PAcuZr9SMoMKsj5gnySIACyyM4vswkAn+HR+PJuX+gWdViWPxsE7jm8gHLFJhJmK17EAVmXb6sPe8EKLC8s+MrsydwOz4JT8zdieu3E/DzmFYoXtAj18gosFwjs/wLKDDLM2WNliFAgVmGI2u5l4Bc95r8vyP4/XgEpjxVDy1rZL0fZ3bsKDANehYFpkESGEKmBCgwdgxrEFi26wzeWncErwTUwJjHaub5FBRYntFZ7oUUmOVYsibLEqDALMuTtQF7zkSiX+ButKlZQj1hObfXvdIzpMA06FEUmAZJYAgcgbEPWJ1A+PVYdJmzE4U83bFuVAsU9sxn1jkpMLPwWebFFJhlOLIWyxPgCMzyTJ21xrjEJPRZsBsn/ruBtSNboEapQmajoMDMRmh+BRSY+QxZg3UIUGDW4eqMtY7/4RC+3XMOXzzdGB3rlbEIAgrMIhjNq4QCM48fX209AhSY9dg6U81f7TiFoCPheLiKL8a1f8BiTafALIYy7xVRYHlnx1dalwAFZl2+zlD7L0fCMWz5PjzuVwrznvaHWy5vVs6OEQWmQQ+iwDRIAkPIlAAFxo5hDoG/zkWhT+Au1CpVCN8ObQav/G7mVHffaykwi+LMW2UUWN648VXWJ0CBWZ+xo57hXGQMus37Ex7urmrRRolCud9pIyc2FFhOhGzw/xSYDSDzFHkiQIHlCZvTv0i2h+r5xZ8Ij47Fjy82t8iKw8ygUmAadDUKTIMkGDCEc+fOYeDAgQgPD4erqyuGDh2KMWPGIDIyEn369MGZM2dQuXJlrFq1CkWLFoVs3yP/v3HjRnh7e2PJkiVo3Lhxti2nwAzYMewccmxCEsat/gvBpyPxWZ+GaF49b9tEmdIMCswUSlY+hgKzMmAHrf7SpUuQL5HQjRs34O/vj7Vr1yox+fr6Yvz48fjwww9x7do1TJ8+XYlrzpw56ntwcLCSmXzPrlBgDtp5rNSs+MRkDF9+59les/s2whMNylrpTHeqpcCsite0yikw0zjxqOwJdO3aFaNGjVJf27ZtQ5kyZZTg2rZti3/++QfDhg1TP/fr109VVKtWrbTjsqqZAmOvM5VAUnIKRn97ABsOXcLUbnXx9MOVTH1pno+jwPKMznIvpMAsx9JZa5LpwtatWyM0NBQVK1ZEVFRUGgqZPpRRWJcuXdSorGXLlur/AgIC1MhMJEWBOWvPsUy7ZXp6/A+H8d3ec5jQ8QEMa1PNMhXnUAsFZhPM2Z+EAtMgCQYO4ebNm2jTpg0mTpyI7t27o0iRIpkKrHPnzpgwYcI9ApsxY4aaekxfAgMDIV9SIiIiEBYWZmA6DN3aBERe7/90DIv+OI2XHq2OsY/XsvYp0+qnwGyGOusTUWAaJMGgISQkJKiRVfv27fHqq6+qVqSfGuQUokETa5CwRV5ztp5A4PbT6OlfHu884SfXpWwWPQVmM9QUmAaoHSoEefMYNGiQWrAxa9astLa99tprKFasWNoiDlmVKCOtDRs2YO7cuWmLOEaPHo2QkJBsmfAamEN1GYs2Rvrfez8dxeI/zmB4m6p4vf0DZj0aJS/BUWB5oWbh13AEZmGgTlLdzp070apVK9SrV08to5cybdo0PPzww+jduzfOnj2rroetXr1aSU7ecGSBR1BQkFpGv3jx4myvf0l9FJiTdKZcNjM5OQUT14ZiZchZPNeiMt7uYtuRV2q4FFguE2eNwykwa1BlnZYgQIFZgqJj1ZGYlIzXvj+ENQcuYOQj1TDu8Vo2nTZMT5MC06BvUWAaJIEhZEqAAmPHSE9A7vMa8+0B/BwajnGP18SoR2vYFRAFZlf8d05OgWmQBIZAgbEPZEvgRmwC3lxzGDuOX8FLATXwfMsqdidGgdk9BRSYBilgCFkQ4AiMXUMIXLp+G88t3oMTl29iZs8G6Na4nBZgKDAN0sARmAZJYAgcgbEPZErg6MVoDF6yBzfjEjHv6cZoXbOENqQoMA1SQYFpkASGQIGxD9xH4PfjERj5zX4U9HDHomebwK9sYa0oUWAapIMC0yAJDIECYx9IIyC3XMzb9i8Ct/+LRhWK4sMe9VHax1M7QhSYBimhwDRIAkOgwNgHFIHo2ASMW/UXfjn6n9pNfnqPevDO764lHQpMg7RQYBokgSFQYOwDOP7fDQxftg9hkTGY2Km2uknZlltD5TYFFFhuiVnheArMClBZpUUIcBWiRTAaopINhy6qG5RltCWLNR6q4qt93BSYBimiwDRIAkPgCMxJ+4BMGU5edwRb/v4PTSr7Ymq3eihVWL/rXZmlhwLToNNSYBokgSFQYE7YB0JOR+KV7w4iPDoWox6prh6H4u52Z19NIxQKTIMsUWAaJIEhUGBO1AdiE5Iw//d/8dmWE6jo641P+zRE44pFDUeAAtMgZRSYBkmwYwhJScmIS0pGbFwS4pOTEZuQCHdXVyQkJqlPw+7ubvB0d0N+Nxd45Xe36SMreA3Mjh3DSqfefjwCb60LhZuLCx6u4otJXfxQwEPPVYY5IaDAciJkg/+nwGwA2Q6nuB2fhAtRMTh37TYuXLuN89du42ZsAi5E3ca1mARcv52AazHxKFPYE8fCb6Bl9eLqkSeFPN1QoYgXrsbE41ZcMm7FJyEuMRlRMfHwLZAfsjNCYa988En3Vbl4AeRzc1HXLsr4eKZ9l+PNWUVGgdmh41jplJejY/H+hmNY/9dFVCleAFOeqosW1Ytb6Wy2qZYCsw3nbM9CgWmQBDNCkGcjnbl6C6EXo/FPuHzdwLFLN1DY012JKbWIYBpVKILbCcko4p0PRbzzo4hXPpQs5IF87q7w9c6nRlxuLinw8c6H23GJiE9KQVKKCxIS74gsKTlFCTD69h0Bpn6JtHaevILklHsbkt/NFY8+UBK34hNRuVgBVCrmrd68RHgVinojv3v21zsoMDM6hiYvlT6zIjgMM4L+UR+ERjxSDcPbVINnPjdNIsx7GBRY3tlZ7JUUmMVQ2qQieR7SkYvRkAvgIWcisfdMJKoWL4B9Z6Pg7uqCqiUKoFbpwmhY3gfFC3mgXBEvlC/qrUTl6mq9x61LXFduxquNV/+LjkX49Vhcio5FfEIy9p+9htNXbiE6NjGNkYTyuF9pJCQlo0apQqhZqiBqliqEaiUKqKlKKRSYTbqUVU4io/lt/0Tg01+P42LUbdQqXQjvd62LqiUKWuV89qiUArMH9QznpMA0SEIOIYgQfjkSjuP/3cQP+88jJj5JvaJyMW+19FiuJfiV9UG1kgXg4a7nJ1t5Q5OpSxktnrlyC2euxuB6TDx2n4rEqSs3kZB0Z/j2UGVfXLkVh9plCmP9u4OwdN0W+JUpjFIabiWkf8+xT4TygeXDn/9WH7JkkcZbnWujnV8ps6aT7dOS7M9KgWmQFQpMgyRkEsK5yBgEhYYj6Ei4GsGkpACta5RAleLeaFLFV73RlzTI/TLpmxcUFIQxY8YgKSkJQ4YMwfjx49UoLOzqLSVo2YVhf9g1HLsUjT2zhqHMoFnwr1QUZyNjULdsYdQr54M65XzUd5m6NOcam56ZN25UoReuY+7Wk6rPFi+YH6MDaqBvk4o5ThUbtcUUmAaZo8A0SMLdEC7fiMXmI/9hRchZNU0oRUYfHeqWRse6pVG9ZEFDv2GLtGrWrInNmzejfPnyaNKkCVauXAk/P79Mk9CosT/mf/8LTkbcxP6wKBy5eF09E0quq0iRa2oyfVqvfBE0KO+D+uWLoEQhD30S6gSRyMj6z3+vqmXxO05cQesaxfFgZV/1wEmjri40NW0UmKmkrHgcBWZFuCZULW8Au/69im+Cz2LTkXD4FsiHckW80bFeabSvUxqVihUwoRZjHLJr1y5MnjwZmzZtUgF/8MEH6vuECRMybUBm18BkdeWx8GgcvXgdB89dx+HzIrUbaQtIGlUsgtKFPZXMGlS4M1Ir5JnPGIAMFKWMmoNCL2HB9lMIvRCN4gU91N6FAx6upBYBOUOhwDTIMgVmnyTIFjpr9l/A0j/P4NSVW2plYC//8uj3UEWHutCdnu73338PmUJcuHCh+vWyZcsQHByMuXPnmiywzA68FZeoRqyHzkfh0vVY/HrsP4RdjVGHurgAj9QsgSIF8qNhhSJKbLXLFNL2WqF9eqPpZ/034iZW7TmnrsVWK1EQETfiMLR1VTzVqJxDrCw0nYT0LeldxiiGCTS3OP38/FK8vLxy+zKbHx8REYESJfR5GmtWAHKKU6a/rtyMUyv2vPK5IQUpKFYgP3y85J4p22HNKU5rRHLt2jVER0ejUqVKqvqrV6/i1q1bqFixYtrpJK4rV66of8fFxaFhw4Z5CkU4y2KX2wlJkBWSsuQ/8e7Uo2CWhyTK7QPe+dzgld8NHvnckFf89mCZFyh5jTMpJQU3bicg8la8up1COMmoVu7zK+Rp+ZuQ8xpnXpiY85p9+/YdAVDXnDps9dq89m1bxZfn8/j7+6fs3bs3z6+31QuNsqQ6qzjlk+rCnaewfFeYehNoX6cURrStjgYVitgK4T3nsQfP3E4hFihQQAnOEkWmai9ej8Whc1H463yUmvb661wUbsTdWdrfpHJRtRKybrnCqFvWB3XL+ahl/TndqyavtQfLvDDJTZwiq81Hw/FzaDj+OHlFbfUkfbhPkwro3ri8Va815ibOvHCw1GtcXFz2SfotVZ8166HArEnXhLqN0qkzximf/JftCsPc304gPjEZXeqXxchHqqv7YuxZ7MEzMTFRLeLYsmULypUrpxZxrFixAnXq1MkUhSUFltkJUm8CP3zhunoW1d4z19ROI6lSa1rVF9dvJ6opR1lMU6dsYXXPmlzvSV/swTIvfSe7OKVvyhSsLMj4+1I0Nh39Ty2WKV/USy0g6lSvjJqCtcWsmVF4UmB56YUWfg1HYJYFmvrHJ9NWK/ecwye//KPuf3q2eWUMbFZJm+tb9nqT2LhxI15++WW1jH7w4MGYOHFilgmwtsCykpos2Q+9eF3dfC1SkyX9l2/Eqfvtgk9HqilfufFa7lWTnUU+evs1bP5hmbpZ3BZv8Hntselzfj0mAUcuXcfx8Bv47Z8I7DkTqaZcZRq7XtnCePSBUureLZG2rdtkr76ZW64UWG6JWeH4BQsWpAwdOtQKNVu2ysDAQBglzgfadsOUDUfVfU3yKf6tLn6oU9bHskDMrM0IPOVaWVhYmJkttczLr96MU9t0Hb0UrUZrcp/e4QvRuHl3ClLO0qp6cUTGxKttsyoW81a3PchorVwR2SPSyy7LymPiE9VemLKoZen6rfAqU0MteJEtwaRI/5Trsc2rFVNfTasWU9uM2bMYoW8KHxcXl2EAAu3JytRzO+wUIlchmtoFcj7u/LUYBG4/ha93hal7lN7sVBuPO+AOBDmTsMwRun8Sl+tqMjI7efkmZHWeXDc6eC5KyUL6glxHO3A2Kg2G7E/ZumYJtaBERnHFCnqgbBFPeOVzV5sjy0pUz3yu6t9e+V3V9TfXlBS4uKTAy80VMQnJcHF1Q3xSsvq6HZ+MqNvxiIpJQJTsTSkbMMcnqZu+ZfPm85ExuHorXp3/ocpFsSfsmhoxyoep1ClRv7KF75sStUz2HL8WrkLUIMcUmPlJkGspy4PDMP3nv+Ht4YYhraqqKUNdt3Uyv8W2qUF3gWVHQaaQZUn/na/basRzKSoWsoRPdqyQlahXb8ajRsmC+Ov8dVWVbAsmU3kimdvxiahYrAAKebghn6sr5Dpd/QqFEZcAyC0Ybnf3tZQpzfSldGEPtZekXLu68+Wtvkudsuzd0W8utk3PvHMWCsx2tHsBmAygtnwYA5C27HDatGkpX331Fdzc3DB79my0b9/+vqhOnz6Nvn37IjIyEo0bN1b37+TPb91phj59+uCff/5RsURFRaFIkSI4ePDgfbFVrlwZhQoVUvG7u7vD1isqX3n7Q/xwzhOupWrA/coJvNOpBp7p3vm+ODPbQslW6X/ttdewfv16lbNq1aph8eLFimfGYi+WWbFJFZgspx84cCD27duHYsWK4bvvvoPEasty7tw5FUN4eDhcXV3VdLZsiZW+bNu2DV27dkWVKlXUr7t3746333472zDlHrYbsYlqVHYrLgE35LlsCclq+b/cYiHPa0tMSsLCP05heKsagCvU89pkdCa3YXh7uKunCsjNwzKKkw9NOeVRRo4Su1yP9Pb2xpIlS9TftS2L/G3L33hqOXXqFN577z11fTS15IWnJdog12Z/+uknlCxZEqGhoapKee+TeM+cOaP4rlq1Cr6+vpnNzA0CMOluHFMALLVETObWYfQpRBFXMoAFAMalE5hf/fr1j4SEhODixYto164djh8/rmSQvvTu3Vv9MYrEhg8fjgYNGuDFF180l6nJrx87dix8fHwyfTOQziTSKl7cts8WklHXipAwvLv2EOTD8JQejdDTv3ymF7xzu4WSyWBMPPCXX37Bo48+qgT/xhtvqFdNnz49U4HZmmV2bFIFNm/ePBw6dAjz58/Ht99+izVr1iiJ2bJcunQJ8iVv9Ddu3IC/vz/Wrl17zzZY8oY7c+ZM9eZnz5LT34SIa86cOUpgciO5yEy+26tIH5BVqRJD6j2CEou9eG7fvh0FCxZUH1hSBfb666+LsNTenR9++CHknsYZM2Zk9ILv3fdWWVov+53JMnt/ANfsxTb1vEYXWNqHmgwCmzBt2rRpqVv5yOhLtvpp1qxZGm/5tCY3EMsnT3kDzHgvj7UTI+eXG123bt2KGjVqaPGmK9c6xq3+C1v/voxabv+huc91vPP6K1miyO39T9ZkKm/+siPGN998owXL7NikCix9v5Sl+KVLl4bc7Grr1XHpgclIa9SoUXjsscfSfm2vN9yMicxJYMOGDUPbtm3Rr18/9dJatWopWZQpU8aaXS/LuuUD1rvvvos//vjjnmPsyVNGWl26dEkTWHpG8kFG+B0/fjyjFwRoWwCyuEOKDBi2AVhpF7DpTuqoApu7bNmykQMGDFBNff7559GxY0f07NkzremyK0LTpk1x8uRJ9TuZSpFjUj+ZWDsx8mno1VdfzXJqUKZrihYtqt7M5A/T2isV5RERo1ceUBfs3+z0AE7/shRLly5B4cKF1Q2tH3/8sYonfcntFkrWZPrEE0+oqZDUnKc/l61ZyrmzY5MqsLp166otqGQDYCkyDSqf1m096k5lJW9urVu3Vn8DkvfUIm+4PXr0UHGWLVtWjcayusfNmjnOKY/yxiwjiZYtW6owAgIC1IhceNujyJSdjGzlA0H6Yk+eGQUmU+5yKSO1yN94VFRURi/I7JYnAJk6lPIWAFnuOdMeXNOf0wgC+xVA6UxAyY026+7+Xj4NpJ9C/HzZsmUj0gusU6dO6o8wtcgnXRmRpReYHHP48GGzcyJTljKyy1imTp2qriVIkanK6tWrQ6YRMysy9SlvFpcvX1afhmVqRN5cLFkkzkvh/yGhelvE13ocLjGR8Nz3DT58Y6SSu7yRikDfeustNc20aNGie06/evVqtYFt+j0AZdpWYrVUMYWlcJUpwh9//DHT0YstWGZsb3ZsUgUmEhB+6QUm/OR6mK3LzZs30aZNG3X/mkyrpy+yTZZcH5PpJ5mek6m5EydO2DpEdTkgu7+Jzp07qw2U0wtsxowZalrU1iU+Pl7FeuTIEZQqVUobnnkU2GsA5C739AKTTTk/tjXXjOczgsBMYZRRYFpPIcp0kcyNy8X71Dev7Bop05/y5jFunDjaciXyZhxe+vYA/jh5FU82KIup3epmusN5xk6fGoEOU4hLly5V15BkFwy5cJ9TsRbLjOc10hRiQkKCmlaSKU2ZFcip5DSVl9PrLfH/meVRpynEdevW4fPPP4dMI+ZUbMmTU4g5ZcM+/59RYHXq168fmrqIQ6YS5BNjxkUcvXr1UqOy1EUc9evXx4gRI6zeApk2kkdu/P7775meS/bJS+qrRbgAAB2ASURBVE5OVqsQ5WcZgcmqrw4dOlgsNrl5dfCSPajo66V23O79YIV7Ri8y4kq9dvDpp5+qqS1ZaJC+5HYLJYsFf7ci4ShvuMIxqw2RbcEys3ZlxyZ1BCZvcDLiT13EISNIWQVmyyLXYgcNGqQu5M+aNSvTU8tsgowiZDQuf1MyFS83YtvyWp0pedywYYN6AkDqIo7Ro0ereO1R5D1FPhA899xz953enjwzCkxW8sqIP3URh6xK/OijjzJbxCELN1KXdO6/u4jj3nsd7ADa6COwbgBkvkq2c5eJXFmPrtbLT5kyJUWmvGSBhvxhyvUtKTJNKFNeMryXJa6py+gbNWqE5cuXw8PD+g8OfPbZZ9UUnax8TC0yPSJP8pU/PomrWzdpGiBvhP379892a6Lc9ptt/1zGqBUH4J3fDQsHPagexZGxPPPMM2p5v7xJySfEBQsWKKGlj1Nek5stlHIbZ07HyxSsLEVPnXITpiIDW7LMLsbM2MgHEdknUaauY2NjIZwPHDigBCIfEKpWrZpTsy36/zt37kSrVq1Qr149NU0oZdq0aTh79qz6WfqoSOGLL75Qf0vyhIdPPvkEzZs3t2gcOVWW1d+E5Ds1TpGxXG+SDzYyGpfbKuxx/SsmJgYVKlRQf8eyylhK+jjtxVMWt8j1N7n+Lx9IZIHJU089BVmNLfmWRWUy9V2sWDHxglw4lDeoIXdzMxjAm3d/ngpgcU45s8X/G11gWTLijcyZo1m26wze+d8R1CpdGIuefRCyFRCLbQkY+UZm25Li2exBgDcy24N6hnNSYPcCkR24ZR/DxX+cQcADJTG7XyPuXmCnfkqB2Qk8T2sSAQrMJEzWPYgC+3++sivCSysPqPu7nm9ZRe1lmLplj3WzwNozI0CBsV/oTIAC0yA7FNidJMhWPs8uClbXN7o1KocBTe88NZjFfgQoMPux55lzJkCB5czI6kdQYMC1W/F4ZlGwelzGnH6N0KGufXYksHqyDXYCCsxgCXOycCkwDRLu7AKTXcEHLAzGqSu3MH9AY/UgPxY9CFBgeuSBUWROgALToGc4s8AuR8ei/8Jg9eymLwc+iFY15C4DFl0IUGC6ZIJxZEaAAtOgXzirwOQZTf2/DMZ/0bFY9GwT9SRaFtMIZPd4FrnxPLPH8+TlcTIUmGn54FH2IUCB2Yf7PWd1RoHJ4+D7L9yNqFsJWDK4CfwryVMQWEwlkNXjWY4ePap2OM/4eB6pt2bNmti8ebPaEqxJkyZYuXLlPY8iyezcFJipGeFxtiKwZ88etem59HEvL6+CAGQLE3mw2Z0Hh2laeCOzponJbVgXo25j8v+OQJ5ku+z5hzLdXSO3dTrz8ekfzyKjLykZH88jv5M9+WRDXikZj8uKHwXmzD1L37ZPmjRJ7Q7z8ccfzwNwXrq0vtHeiYwC0z1DJsQnqw17LdiF8Ou3sfKFpqiXydZQJlTDQ9IRSP94FtmeSLapyvh4HjlcphDT78Yve0bKVkHZFQqMXU1HArKDvswiHDp0SEZfsldYko5xpo+JAtM9QznEFxOfiKcXBuPIxWh8PfghXvPKgVdeHs8ycuRI9eidjI/nkQ2XTX2cTGBgIORLijzKRzbDZSEBnQjIJsMtWrSQPRyPAWgC4JZO8WUWCwWme4ayiS8hKRkvfL0X249HYN7T/uhQN7PHphm4gXYIPbPHs3AK0Q6J4CltTuDJJ59Um5s//fTTkwDITaP3PonT5hHlfEIKLGdGWh6RnJyCcav/wo8HLuCD7vXQ76GKWsZppKCyejyLPJRQngiQ8fE8svu5LOKQZ5HJ891k+kV2ms/pacWcQjRSr3COWL/++musXbs29aGw7gD+lMu+ALbqTIAC0zk72cQ2dcNRfLnjNMY+VhMvBdQwaCv0Cjurx7NIlPLU58wez5OXx8lQYHrlndHcS4DL6DXoEY68jD5w+7+YtvFvDGpWCZOfrGPTBwtqkFrDh0CBGT6FDt0ACkyD9DqqwIJCL2HubydRo2QhfNyrAVxdHXYQrUEvsk4IFJh1uLJWyxCgwCzD0axaHFFgf4dHo/u8P1GzVCF8O7QpPPO5mcWIL7YPAQrMPtx5VtMIUGCmcbLqUY4msMhb8ej6+U7EJSRj/UstUaqwp1X5sXLrEaDArMeWNZtPgAIzn6HZNTiSwGS5/MCvQrDv7DWsGtYMDSsUMZsPK7AfAQrMfux55pwJUGA5M7L6EY4kMNkiasmfZ9Q1rx7+5a3OjiewLgEKzLp8Wbt5BCgw8/hZ5NWOIrDv9pzFGz8cxpCWVTCpi59F2LAS+xKgwOzLn2fPngAFpkEPcQSB7QuLRN/A3Wp7qMXPNoG7m6sGZBmCuQQoMHMJ8vXWJECBWZOuiXUbXWDyUMqXvzsI2WV+3ciW8PHOZ2LLeZjuBCgw3TPk3PFRYBrk38gCS0pOwYCFwTh0PgprRrRAzdKFNCDKECxFgAKzFEnWYw0CFJg1qOayTiMLbPaWE/hk83HM6FEfvZtUyGXLebjuBCgw3TPk3PFRYBrk36gCCz51Ff2+3I0nG5TFp30acpsoDfqSpUOgwCxNlPVZkgAFZkmaeazLiAKTm5U7fbYDXvnd1M3KBT1kU2gWRyNAgTlaRh2rPRSYBvk0msDk0RxDlu7FjhNX8OOI5qhbzkcDigzBGgQoMGtQZZ2WIkCBWYqkGfUYTWALd5zClA3HMPkJPzzboooZLedLdSdAgemeIeeOjwLTIP9GEtiRC9fxwrK9qFvWBwue8ed1Lw36jzVDoMCsSZd1m0uAAjOXoAVebxSBxSYk4cm5OyFL578f3hxFC+S3QOtZhc4EKDCds8PYKDAN+oBRBPbBz8ew4PdTWPJcE7StVVIDcgzB2gQoMGsTZv3mEKDAzKFnodcaQWCyVVTP+bvQt0lFfNC9noVazmrMJTBz5ky89tpriIiIQPHixSELbMaMGYONGzfC29sbS5YsQePGjdVpli5diilTpqifJ02ahEGDBuV4egosR0Q8wI4EKDA7wk89te4Ci4lPVEvmE5NTEPRyay6Z16DPSAjnzp3DkCFD8Pfff2Pfvn1KYCKuOXPmqO/BwcFKZvI9MjISqTJycXGBv7+/ek3RokWzbQ0FpkmyGUamBCgwDTqG7gJLfUTKyheaolm1YhoQYwhCoGfPnnjrrbfQtWtX7N27Vwls2LBhaNu2Lfr166cg1apVC9u2bUv7WrBggfp9xuOyIkqBsa/pTIAC0yA7Ogvsz5NX0H9hMJ5rURnvPFFHA1oMQQj873//w5YtW/DZZ5+hcuXKaQLr0qULxo8fj5YtWypQAQEBmD59uhJYbGysmjqU8v7778PLywvjxo3jCIxdyrAEKDANUqerwG7EJqDDrB3wcHfFhtGt1K4bLLYj0K5dO4SHh993wqlTp2LatGn45Zdf4OPjc4/AOnfujAkTJtwjsBkzZmDr1q2Ii4u7R2ByjWzs2LH31R8YGAj5kiLX1sLCwmzXaJ6JBHJBgALLBSxrHaqrwN7/6ajaZX5Cp9poXDH7ayXWYsN67ydw+PBhNbISAUk5f/48ypYti5CQELzzzjucQmSncRoCFJgGqdZRYAfOXkP3L/7Es805dahBF8k2hPRTiBs2bMDcuXPTFnGMHj1aiU0WccjCjf3796u6ZGWiLOLw9fXlFKLuCWZ8WRKgwDToHLoJLCEpGU/M2YmomAT8OrYNVx1q0EeyCyG9wGQZ/ahRoxAUFKRGaIsXL1arD6UsWrRITT1KmThxIp577rkcW8ZFHDki4gF2JECB2RF+6ql1E1jg9n8xbePfmD/AHx3qltaAEEOwFwEKzF7keV5TCFBgplCy8jE6Cez8tRg89sl2tKheDF8OfJB7HVo597pXT4HpniHnjo8C0yD/uggs9TEpf/57FZtfbY3yRe8sEmBxXgIUmPPm3ggtp8A0yJIuAgsKvYThy/djYqfaeKF1VQ3IMAR7E6DA7J0Bnj87AhSYBv1DB4HJPV8ydSg7zK8f1QLubq4akGEI9iZAgdk7Azw/BaZ5H9BBYLJd1NJdZ/Dji83RiPd8ad5jbBceBWY71jxT7glwBJZ7ZhZ/hb0FdvRiNJ5euBtd6pfF+0/VtXj7WKFxCVBgxs2dM0ROgWmQZXsKTBZu9Jq/C1duxWHtiBYo4s2HVGrQJbQJgQLTJhUMJBMCFJgG3cKeAlv/10W8tPIAPuxeD30fqqgBDYagEwEKTKdsMJaMBCgwDfqEvQR2Oz4JAR9vU6Ou9S+1hJuriwY0GIJOBCgwnbLBWCgwDfuAvQT22a8n8Omvx/Hd0KZ4uCqf86Vh17B7SBSY3VPAALIhwBGYBt3DHgK7GHUbj368DQEPlMLnT9955DwLCWQkQIGxT+hMgALTIDv2ENiYbw/g59BwbHm1DSr4cscNDbqBliFQYFqmhUHdJUCBadAVbC2wfWGR6PHFLrz0aHWMfbyWBgQYgq4EKDBdM8O4hAAFpkE/sKXAZNn82FUHcehCNNaNbIECHu4aEGAIuhKgwHTNDOOiwDTpA7YU2MbDlzDim/2Y3qMe+jThsnlNuoC2YVBg2qaGgXEEpkcfsJXA5EGVj3+6HfncXPDzmNZcNq9H+rWOggLTOj1OHxynEDXoArYS2PLdYZi0NhRfDXoQAbVLadByhqA7AQpM9ww5d3wUmAb5t4XAbsUlos1H21C1eAF8N6wpH1SpQd7NDWHOnDmYO3cu3N3d0blzZ8yYMUNV+cEHH+Crr76Cm5sbZs+ejfbt26vfBwUFYcyYMUhKSsKQIUMwfvz4HEOgwHJExAPsSIACsyP81FPbQmCzt5zAJ5uP44cXm8O/UlENWs0QzCHw22+/YerUqdiwYQM8PDxw+fJllCxZEkePHkW/fv0QEhKCixcvol27djh+/Lg6Vc2aNbF582aUL18eTZo0wcqVK+Hn55dtGBSYOVnia61NgAKzNmET6re2wK7ejEPrGb+hVY0SmP+MvwkR8RDdCfTu3RtDhw5VgkpfZPQlZcKECeq7jL4mT56sfpbvmzZtShulpT8uq/ZSYLr3BOeOjwLTIP/WFpg862vZ7jD88kprVCtRUIMWMwRzCTRs2BBdu3ZV04Kenp6YOXOmGlWNGjUKTZs2xYABA9Qpnn/+eXTs2FH9LMcuXLhQ/bxs2TIEBwerKcjsCgVmbqb4emsSoMCsSdfEuq0psLORMWrD3p7+FfBB93omRsTDdCAgo6vw8PD7QpGpw4kTJ+LRRx/FZ599hj179qBPnz44deqUElizZs3uEVinTp2QnJysRl/pBSbTjHIdLWMJDAyEfEmJiIhAWFiYDjgYAwncR4AC06BTWFNgr353EKev3MQXA/xR2sdLg9YyBEsQ6NChg1qE0bZtW1VdtWrVsHv37jRBcQrREpRZh+4EKDANMmQtgZ25cgsBn/yOZ5tXxltdsr9YrwEGhpALAvPnz1eLNN577z21SCMgIABnz55Vizj69++ftohDfn/ixAnIDiyyiGPLli0oV66cmm5csWIF6tSpwynEXHDnoXoRoMA0yIe1BDZ21V/46dBF7HjjEZQs5KlBSxmCpQjEx8dj8ODBOHjwIPLnz6+ugcmUohSZYly0aJFaXj9r1qy0a2AbN27Eyy+/rJbRy2tlGjKnwmtgORHi/9uTAAVmT/p3z20NgXH0pUFiHSAECswBkujATaDANEiuNQT26qqDkH0Pt7/O0ZcGKTZsCBSYYVPnFIFTYBqk2dICOy3Xvj7ehsEtqmASr31pkGHjhkCBGTd3zhA5BaZBli0tMI6+NEiqg4RAgTlIIh20GRSYBom1pMA4+tIgoQ4UAgXmQMl0wKZQYBok1ZICSx197Xj9UZQo5KFB6xiCkQlQYEbOnuPHToFpkGNLCexUxE20++R3PN+yCiZ25n1fGqTW8CFQYIZPoUM3gALTIL2WEpjsurEx9BI4+tIgqQ4SAgXmIIl00GZQYBok1hIC4+hLg0Q6YAgUmAMm1YGaRIFpkExLCOyd/4Xi+H83MadfIxQvyGtfGqTVIUKgwBwijQ7bCApMg9SaK7BL12+r5309/XAlTH4y+73tNGguQzAQAQrMQMlywlApMA2Sbq7Apm44ikV/nMG2cW1RwddbgxYxBEchQIE5SiYdsx0UmAZ5NUdg12MS0PzDLWjnVwqf9W2kQWsYgiMRoMAcKZuO1xYKTIOcmiOwz387iY82/YONo1vBr2xhDVrDEByJAAXmSNl0vLZQYBrkNK8Ci01IQsvpW+FX1gdfD35Ig5YwBEcjQIE5WkYdqz0UmAb5zKvAvgkOw8Q1oVjxwsNoXq24Bi1hCI5GgAJztIw6VnsoMA3ymReBJSWnqB3nfbzyYe3IFnBxcdGgJQzB0QhQYI6WUcdqDwWmQT7zIjB51teIb/Zj3tON0aleGQ1awRAckQAF5ohZdZw2UWAa5DK3AktJSUHXz//AjdhE/PpqG7i5cvSlQRptGsLBgwcxfPhwxMbGwt3dHfPmzcNDDz0E6RtjxozBxo0b4e3tjSVLlqBx48YqtqVLl2LKlCnq50mTJmHQoEE5xkyB5YiIB9iRAAVmR/ipp86twP789wr6fxmMad3qof/DFTVoAUOwNYHHH38cr7zyCjp27KhkNWPGDGzbtk39PGfOHPU9ODhYyUy+R0ZGIlVGMt3s7++Pffv2oWjRotmGToHZOrM8X24IUGC5oWWlY3MrsIGLQnD0YjR2vvEIPPO5WSkqVqszgfbt22Pw4MHo06cPVq5cifXr12PFihUYNmwY2rZti379+qnwa9WqpcSW+rVgwQL1+4zHZdVWCkznXsDYKDAN+kBuBPb3pWi8/b8jeKx2KbzQuqoG0TMEexA4duwYRGIyZZicnIw///wTlSpVQpcuXTB+/Hi0bNlShRUQEIDp06crgcl0o0wdSnn//ffh5eWFcePGcQRmjwTynBYhQIFZBKN5leRGYBN+PIQ1By5g94QAFPHOb96J+WqtCbRr1w7h4eH3xTh16lRs2bIFbdq0QY8ePbBq1SoEBgbi119/RefOnTFhwoR7BCbTi1u3bkVcXNw9ApNrZGPHjr2vfqlLvqREREQgLCxMa04MznkJUGAa5N5UgV27FY9mH25Bt0bl8EH3+hpEzhDsRcDHxwdRUVHq9gkZhcm/o6OjOYVor4TwvHYhQIHZBfu9JzVVYPN//xcf/vw3gl5uhQdKc9soDVJntxBq166NL774Ql3vktHY66+/rhZlbNiwAXPnzk1bxDF69GiEhISoRRyycGP//v0qZlmZKMf7+vpyCtFuWeSJzSVAgZlL0AKvN0VgiUnJaPPRNlT09cbKoU0tcFZWYWQCO3fuVCsMExMT4enpqZbRi6BkNDZq1CgEBQWpZfSLFy9Wqw+lLFq0CNOmTVM/T5w4Ec8991yOCLiII0dEPMCOBCgwO8JPPbUpAgsKvYThy/djwTP+aF+ntAZRMwRnIECBOUOWjdtGCkyD3JkisN4LduHCtdvY/vojvHFZg5w5SwgUmLNk2pjtpMA0yFtOAjty8To6z96JNzs9gKGtq2kQMUNwFgIUmLNk2pjtpMA0yFtOAnv9+7+w/q9Laum8j3c+DSJmCM5CgAJzlkwbs50UmAZ5y05gkbfi0fSDLejpX15tHcVCArYkQIHZkjbPlVsCFFhuiVnh+OwElvrE5V9eaY2apQpZ4eyskgSyJkCBsXfoTIAC0yA7WQksISkZrWf8hmolCmL5kIc1iJQhOBsBCszZMm6s9lJgGuQrK4FtOHQJI1fsx8KBD6KdXykNImUIzkaAAnO2jBurvRSYBvnKSmC95v+J/6Lj8Nu4tlw6r0GenDEECswZs26cNlNgGuQqM4EduxiNJz/fiTc6PIAhrbjrvAZpcsoQKDCnTLthGk2BaZCqzAT25prD2Hrsstr3kLvOa5AkJw2BAnPSxBuk2RSYBonKKLBbcYl4aOqv6FivDGb2aqBBhAzBWQlQYM6aeWO0mwLTIE8ZBfZtyFmM//EwfnixOfwrZf/Idw3CZwgOTIACc+DkOkDTKDANkphRYF3n7sTthCRserm1et4TCwnYiwAFZi/yPK8pBCgwUyhZ+Zj0Agu9cB1d5uzEO0/44bkWVax8ZlZPAtkToMDYQ3QmQIFpkJ30Apu09jBW7z2P4DcDuHhDg9w4ewgUmLP3AL3bT4FpkJ9UgcXEy+KNLXjcrxQ+6dNQg8gYgrMToMCcvQfo3X4KTIP8pAps1Z5zeP2HQ1g9vBmaVM7+Ue8ahM0QnIAABeYESTZwEykwDZKXKrBu8/7AjdhEbH6Fizc0SIsWIaxevRqTJ0/GsWPHEBISAhFKavnggw/w1Vdfwc3NDbNnz0b79u3VfwUFBWHMmDFISkrCkCFDMH78ePX706dPo2/fvoiMjETjxo2xbNky5M+fP9t2UmBadAMGkQUBCkyDriECO3YpGh0/24G3uvjh+ZZcvKFBWrQIQcTl6uqKYcOGYebMmWkCO3r0KPr166ekdvHiRbRr1w7Hjx9XMdesWRObN29G+fLl0aRJE6xcuRJ+fn7o3bs3unfvriQ2fPhwNGjQAC+++CIFpkWmGUReCFBgeaFm4deIwN5ZF4qVe84heEIAihbI/lOxhU/P6gxAoG3btvcITEZfUiZMmKC+y+hLRmpS5PumTZvUz6nHySisRIkSCA8Ph7u7O3bt2nXPcVkh4AjMAJ3DiUOkwDRIfkxcYspD035FwAMlMatvIw0iYgi6EcgosFGjRqFp06YYMGCACvX5559Hx44d1c8yhbhw4UL1s0wTBgcHK1nJ8SdPnlS/P3funDo+NDSUIzDdks14TCZAgZmMynoHrt57LmXc6r/w3dCmeLhqMeudiDVrSUCm/2RklLFMnToVXbt2Vb/OKLCRI0eiWbNm9wisU6dOSE5OVqOv9AKTaca3335bHZ9eYHL84cOH7ztvYGAg5EtKREQEwsLCtOTGoEiAAtOgD3Sf90fKtZh4bHm1DXfe0CAfOobAKUQds8KY7E2AArN3BgBUeuOnlImdauOF1nxsigbp0DKEjAI7cuQI+vfvn7aIIyAgACdOnEBKSopaxLFlyxaUK1dOLeJYsWIF6tSpg169eqFHjx5pizjq16+PESNGcApRy4wzKFMIUGCmULLyMTXe3Jiy+80A+HLxhpVJG6/6NWvW4KWXXlJTeUWKFEHDhg3TFmjIFOOiRYvUooxZs2alXQPbuHEjXn75ZbWMfvDgwZg4caJq+KlTp9KW0Tdq1AjLly+Hh4cHBWa8bsGI7xKgwDToCgfOXktpWKGIBpEwBBK4l0CHDh3UohAWEtCRAAWmQVYye6ClBmExBBIgARLQmgAFpkF6KDANksAQSIAEDEeAAtMgZRSYBklgCCRAAoYjQIFpkDIKTIMkMAQSIAHDEaDANEgZBaZBEhgCCZCA4QhQYBqkjALTIAkMgQRIwHAEKDANUkaBaZAEhkACJGA4AhSYBimjwDRIAkMgARIwHAEKTIOUUWAaJIEhkAAJGI4ABWa4lDFgEiABEiABoxFwMVrAjJcESIAESIAEhAAFxn5AAiRAAiRgSAIUmCHTxqBJgARIgAQoMPYBEiABEiABQxKgwAyZNgZNAiRAAiRAgbEPkAAJkAAJGJIABWbItDFoEiABEiABCox9gARIgARIwJAEKDBDpo1BkwAJkAAJUGDsAyRAAiRAAoYkQIEZMm0MmgRIgARIgAJjHyABEiABEjAkAQrMkGlj0CRAAiRAAhQY+wAJkAAJkIAhCVBghkwbgyYBEiABEqDA2AdIgARIgAQMSYACM2TaGDQJkAAJkAAFxj5AAiRAAiRgSAIUmCHTxqBJgARIgAQoMPYBEiABEiABQxKgwAyZNgZNAiRAAiRAgbEPkAAJkAAJGJIABWbItDFoEiABEiABCox9gARIgARIwJAEKDBDpo1BkwAJkAAJUGDsAyRAAiRAAoYkQIEZMm0MmgRIgARIgAJjHyABEiABEjAkAQrMkGlj0CRAAiRAAhQY+wAJkAAJkIAhCVBghkwbgyYBEiABEqDA2AdIgARIgAQMSYACM2TaGDQJkAAJkAAFxj5AAiRAAiRgSAIUmCHTxqBJgARIgAT+D1POCJgFvfTHAAAAAElFTkSuQmCC\" width=\"432\">"
      ],
      "text/plain": [
       "<IPython.core.display.HTML object>"
      ]
     },
     "metadata": {},
     "output_type": "display_data"
    },
    {
     "data": {
      "text/plain": [
       "<sympy.plotting.plot.Plot at 0x1f457398408>"
      ]
     },
     "execution_count": 38,
     "metadata": {},
     "output_type": "execute_result"
    }
   ],
   "source": [
    "f = x**3-3*x**2-24*x+32\n",
    "plot(f)"
   ]
  },
  {
   "cell_type": "code",
   "execution_count": 39,
   "metadata": {},
   "outputs": [
    {
     "data": {
      "image/png": "[encoded data removed]",
      "text/latex": [
       "$\\displaystyle x^{3} - 3 x^{2} - 24 x + 32$"
      ],
      "text/plain": [
       " 3      2            \n",
       "x  - 3⋅x  - 24⋅x + 32"
      ]
     },
     "execution_count": 39,
     "metadata": {},
     "output_type": "execute_result"
    }
   ],
   "source": [
    "f"
   ]
  },
  {
   "cell_type": "code",
   "execution_count": 40,
   "metadata": {},
   "outputs": [
    {
     "data": {
      "image/png": "[encoded data removed]",
      "text/latex": [
       "$\\displaystyle 3 x^{2} - 6 x - 24$"
      ],
      "text/plain": [
       "   2           \n",
       "3⋅x  - 6⋅x - 24"
      ]
     },
     "execution_count": 40,
     "metadata": {},
     "output_type": "execute_result"
    }
   ],
   "source": [
    "df = f.diff()\n",
    "df"
   ]
  },
  {
   "cell_type": "code",
   "execution_count": 41,
   "metadata": {},
   "outputs": [
    {
     "data": {
      "image/png": "[encoded data removed]",
      "text/latex": [
       "$\\displaystyle 6 x - 6$"
      ],
      "text/plain": [
       "6⋅x - 6"
      ]
     },
     "execution_count": 41,
     "metadata": {},
     "output_type": "execute_result"
    }
   ],
   "source": [
    "df.diff()"
   ]
  },
  {
   "cell_type": "code",
   "execution_count": 42,
   "metadata": {},
   "outputs": [
    {
     "data": {
      "image/png": "[encoded data removed]",
      "text/latex": [
       "$\\displaystyle 6 \\left(x - 1\\right)$"
      ],
      "text/plain": [
       "6⋅(x - 1)"
      ]
     },
     "execution_count": 42,
     "metadata": {},
     "output_type": "execute_result"
    }
   ],
   "source": [
    "f.diff(x,2)"
   ]
  },
  {
   "cell_type": "code",
   "execution_count": 44,
   "metadata": {},
   "outputs": [
    {
     "data": {
      "image/png": "[encoded data removed]",
      "text/latex": [
       "$\\displaystyle 2 x$"
      ],
      "text/plain": [
       "2⋅x"
      ]
     },
     "execution_count": 44,
     "metadata": {},
     "output_type": "execute_result"
    }
   ],
   "source": [
    "g = x**2 + y**2\n",
    "g.diff(x)"
   ]
  },
  {
   "cell_type": "code",
   "execution_count": 45,
   "metadata": {},
   "outputs": [
    {
     "data": {
      "image/png": "[encoded data removed]",
      "text/latex": [
       "$\\displaystyle 2 y$"
      ],
      "text/plain": [
       "2⋅y"
      ]
     },
     "execution_count": 45,
     "metadata": {},
     "output_type": "execute_result"
    }
   ],
   "source": [
    "g.diff(y)"
   ]
  },
  {
   "cell_type": "code",
   "execution_count": 46,
   "metadata": {},
   "outputs": [
    {
     "data": {
      "image/png": "[encoded data removed]",
      "text/latex": [
       "$\\displaystyle \\left( 3 x^{2} - 6 x - 24, \\  6 x - 6\\right)$"
      ],
      "text/plain": [
       "⎛   2                    ⎞\n",
       "⎝3⋅x  - 6⋅x - 24, 6⋅x - 6⎠"
      ]
     },
     "execution_count": 46,
     "metadata": {},
     "output_type": "execute_result"
    }
   ],
   "source": [
    "#procedimiento para determinar extremos relativos de una función\n",
    "f = x**3 - 3*x**2 -24*x + 32\n",
    "df = f.diff()\n",
    "ddf = df.diff()\n",
    "df, ddf"
   ]
  },
  {
   "cell_type": "code",
   "execution_count": 48,
   "metadata": {},
   "outputs": [
    {
     "data": {
      "image/png": "[encoded data removed]",
      "text/latex": [
       "$\\displaystyle \\left[ -2, \\  4\\right]$"
      ],
      "text/plain": [
       "[-2, 4]"
      ]
     },
     "execution_count": 48,
     "metadata": {},
     "output_type": "execute_result"
    }
   ],
   "source": [
    "pc = solve(df)\n",
    "pc"
   ]
  },
  {
   "cell_type": "code",
   "execution_count": 49,
   "metadata": {},
   "outputs": [
    {
     "data": {
      "image/png": "[encoded data removed]",
      "text/latex": [
       "$\\displaystyle \\left( -18, \\  18\\right)$"
      ],
      "text/plain": [
       "(-18, 18)"
      ]
     },
     "execution_count": 49,
     "metadata": {},
     "output_type": "execute_result"
    }
   ],
   "source": [
    "ddf.subs(x,pc[0]),ddf.subs(x,pc[1])"
   ]
  },
  {
   "cell_type": "code",
   "execution_count": 50,
   "metadata": {},
   "outputs": [
    {
     "data": {
      "image/png": "[encoded data removed]",
      "text/latex": [
       "$\\displaystyle \\left( x y, \\  2 x + y = 2400\\right)$"
      ],
      "text/plain": [
       "(x⋅y, 2⋅x + y = 2400)"
      ]
     },
     "execution_count": 50,
     "metadata": {},
     "output_type": "execute_result"
    }
   ],
   "source": [
    "#Encontrar dimensiones de un cuadrado para el area máxima\n",
    "eq1 = Eq(2*x + y, 2400)#Restricción del perímetro\n",
    "A = x*y\n",
    "A,eq1"
   ]
  },
  {
   "cell_type": "code",
   "execution_count": 51,
   "metadata": {},
   "outputs": [
    {
     "data": {
      "image/png": "[encoded data removed]",
      "text/latex": [
       "$\\displaystyle \\left[ 2400 - 2 x\\right]$"
      ],
      "text/plain": [
       "[2400 - 2⋅x]"
      ]
     },
     "execution_count": 51,
     "metadata": {},
     "output_type": "execute_result"
    }
   ],
   "source": [
    "y_ = solve(eq1, y)\n",
    "y_"
   ]
  },
  {
   "cell_type": "code",
   "execution_count": 53,
   "metadata": {},
   "outputs": [
    {
     "data": {
      "image/png": "[encoded data removed]",
      "text/latex": [
       "$\\displaystyle x \\left(2400 - 2 x\\right)$"
      ],
      "text/plain": [
       "x⋅(2400 - 2⋅x)"
      ]
     },
     "execution_count": 53,
     "metadata": {},
     "output_type": "execute_result"
    }
   ],
   "source": [
    "f = A.subs(y,y_[0])\n",
    "f"
   ]
  },
  {
   "cell_type": "code",
   "execution_count": 60,
   "metadata": {},
   "outputs": [
    {
     "data": {
      "image/png": "[encoded data removed]",
      "text/latex": [
       "$\\displaystyle \\left( \\left[ 600\\right], \\  -4\\right)$"
      ],
      "text/plain": [
       "([600], -4)"
      ]
     },
     "execution_count": 60,
     "metadata": {},
     "output_type": "execute_result"
    }
   ],
   "source": [
    "df = f.diff()\n",
    "ddf = df.diff()\n",
    "x_sol = solve(df)\n",
    "pc,ddf.subs(x,x_sol[0])"
   ]
  },
  {
   "cell_type": "code",
   "execution_count": 63,
   "metadata": {},
   "outputs": [
    {
     "data": {
      "image/png": "[encoded data removed]",
      "text/latex": [
       "$\\displaystyle \\left( \\left[ 600\\right], \\  1200\\right)$"
      ],
      "text/plain": [
       "([600], 1200)"
      ]
     },
     "execution_count": 63,
     "metadata": {},
     "output_type": "execute_result"
    }
   ],
   "source": [
    "y_sol = y_[0].subs(x,x_sol[0])\n",
    "x_sol, y_sol"
   ]
  },
  {
   "cell_type": "code",
   "execution_count": 76,
   "metadata": {},
   "outputs": [
    {
     "data": {
      "image/png": "[encoded data removed]",
      "text/latex": [
       "$\\displaystyle \\left( 5.41926070139289, \\  10.8385214027858, \\  2\\right)$"
      ],
      "text/plain": [
       "(5.41926070139289, 10.8385214027858, 2)"
      ]
     },
     "execution_count": 76,
     "metadata": {},
     "output_type": "execute_result"
    }
   ],
   "source": [
    "#Encontrar dimensiones de una lata para obtener el minimo material\n",
    "r,h = var('r h',real = True)\n",
    "eq1 = Eq(pi*r**2*h, 1000)#Restricción del perímetro\n",
    "A = 2*pi*r**2 + 2*pi*r*h\n",
    "h_ = solve(eq1, h)\n",
    "f = A.subs(h,h_[0])\n",
    "df = f.diff()\n",
    "ddf = df.diff()\n",
    "r_sol = solve(df)\n",
    "h_sol = h_[0].subs(r,r_sol[0])\n",
    "N(r_sol[0]), N(h_sol), h_sol/r_sol[0]"
   ]
  },
  {
   "cell_type": "code",
   "execution_count": 78,
   "metadata": {},
   "outputs": [
    {
     "data": {
      "image/png": "[encoded data removed]",
      "text/latex": [
       "$\\displaystyle \\left( 4, \\  2\\right)$"
      ],
      "text/plain": [
       "(4, 2)"
      ]
     },
     "execution_count": 78,
     "metadata": {},
     "output_type": "execute_result"
    }
   ],
   "source": [
    "#Encontrando puntos críticos máximos y mínimos de multivariable\n",
    "f = x**2 + y**2\n",
    "dfx = f.diff(x)\n",
    "dfy = f.diff(y)\n",
    "\n",
    "pc = solve([dfx,dfy],[x,y])\n",
    "\n",
    "dfxx = dfx.diff(x)\n",
    "dfxy = dfx.diff(y)\n",
    "dfyx = dfy.diff(x)\n",
    "dfyy = dfy.diff(y)\n",
    "D = dfxx*dfyy-dfxy\n",
    "D.subs(pc), dfxx.subs(pc)"
   ]
  },
  {
   "cell_type": "code",
   "execution_count": null,
   "metadata": {},
   "outputs": [],
   "source": []
  }
 ],
 "metadata": {
  "kernelspec": {
   "display_name": "Python 3",
   "language": "python",
   "name": "python3"
  },
  "language_info": {
   "codemirror_mode": {
    "name": "ipython",
    "version": 3
   },
   "file_extension": ".py",
   "mimetype": "text/x-python",
   "name": "python",
   "nbconvert_exporter": "python",
   "pygments_lexer": "ipython3",
   "version": "3.7.4"
  }
 },
 "nbformat": 4,
 "nbformat_minor": 2
}
