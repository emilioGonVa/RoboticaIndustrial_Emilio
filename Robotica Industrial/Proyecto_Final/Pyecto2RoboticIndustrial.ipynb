{
  "nbformat": 4,
  "nbformat_minor": 0,
  "metadata": {
    "colab": {
      "name": "Pyecto2RoboticIndustrial.ipynb",
      "provenance": [],
      "collapsed_sections": []
    },
    "kernelspec": {
      "name": "python3",
      "display_name": "Python 3"
    },
    "accelerator": "GPU"
  },
  "cells": [
    {
      "cell_type": "code",
      "metadata": {
        "id": "dOdIsMZD4mlD",
        "colab_type": "code",
        "outputId": "4d703d11-5727-4bbb-fc1a-bcbd7d4c8fdf",
        "colab": {
          "base_uri": "https://localhost:8080/",
          "height": 119
        }
      },
      "source": [
        "!pip install face_recognition"
      ],
      "execution_count": 0,
      "outputs": [
        {
          "output_type": "stream",
          "text": [
            "Requirement already satisfied: face_recognition in /usr/local/lib/python3.6/dist-packages (1.3.0)\n",
            "Requirement already satisfied: Pillow in /usr/local/lib/python3.6/dist-packages (from face_recognition) (7.0.0)\n",
            "Requirement already satisfied: Click>=6.0 in /usr/local/lib/python3.6/dist-packages (from face_recognition) (7.1.2)\n",
            "Requirement already satisfied: face-recognition-models>=0.3.0 in /usr/local/lib/python3.6/dist-packages (from face_recognition) (0.3.0)\n",
            "Requirement already satisfied: dlib>=19.7 in /usr/local/lib/python3.6/dist-packages (from face_recognition) (19.18.0)\n",
            "Requirement already satisfied: numpy in /usr/local/lib/python3.6/dist-packages (from face_recognition) (1.18.4)\n"
          ],
          "name": "stdout"
        }
      ]
    },
    {
      "cell_type": "code",
      "metadata": {
        "id": "5i_3mWZW6Kin",
        "colab_type": "code",
        "colab": {}
      },
      "source": [
        "import face_recognition"
      ],
      "execution_count": 0,
      "outputs": []
    },
    {
      "cell_type": "code",
      "metadata": {
        "id": "hCW3fmmf6Ks1",
        "colab_type": "code",
        "colab": {}
      },
      "source": [
        "import shutil\n",
        "import os\n"
      ],
      "execution_count": 0,
      "outputs": []
    },
    {
      "cell_type": "code",
      "metadata": {
        "id": "bBbumzmHyTeA",
        "colab_type": "code",
        "outputId": "eccb0b07-384b-4342-f328-5025c8351adb",
        "colab": {
          "base_uri": "https://localhost:8080/",
          "height": 34
        }
      },
      "source": [
        "from google.colab import drive\n",
        "drive.mount('/content/drive')"
      ],
      "execution_count": 0,
      "outputs": [
        {
          "output_type": "stream",
          "text": [
            "Drive already mounted at /content/drive; to attempt to forcibly remount, call drive.mount(\"/content/drive\", force_remount=True).\n"
          ],
          "name": "stdout"
        }
      ]
    },
    {
      "cell_type": "code",
      "metadata": {
        "id": "hR-enhZ9kfhJ",
        "colab_type": "code",
        "colab": {}
      },
      "source": [
        "path= '/content/drive/My Drive/Imagenes Proyecto RbIndl/'"
      ],
      "execution_count": 0,
      "outputs": []
    },
    {
      "cell_type": "code",
      "metadata": {
        "id": "qnOm79twka12",
        "colab_type": "code",
        "colab": {}
      },
      "source": [
        "#creamos carpetas de clasificacion"
      ],
      "execution_count": 0,
      "outputs": []
    },
    {
      "cell_type": "code",
      "metadata": {
        "id": "E2ahF-wWkbCv",
        "colab_type": "code",
        "colab": {}
      },
      "source": [
        "if(\"Amigos\" not in os.listdir(path)):\n",
        "  os.mkdir(path+'Amigos')\n",
        "if(\"Familia\" not in os.listdir(path)):\n",
        "  os.mkdir(path+'Familia')\n",
        "if(\"Novia\" not in os.listdir(path)):\n",
        "  os.mkdir(path+'Novia')"
      ],
      "execution_count": 0,
      "outputs": []
    },
    {
      "cell_type": "code",
      "metadata": {
        "id": "oA5Us4xG4cFg",
        "colab_type": "code",
        "colab": {}
      },
      "source": [
        "#cargar imagenes de base de datos en sus respectivas clasificaciones"
      ],
      "execution_count": 0,
      "outputs": []
    },
    {
      "cell_type": "code",
      "metadata": {
        "id": "Xm3iXiPk5uZ2",
        "colab_type": "code",
        "colab": {}
      },
      "source": [
        "amigos = list()\n",
        "familia = list()\n",
        "novia = list()"
      ],
      "execution_count": 0,
      "outputs": []
    },
    {
      "cell_type": "code",
      "metadata": {
        "id": "o3PHHvZv016v",
        "colab_type": "code",
        "colab": {}
      },
      "source": [
        "path_caras= path+'Caras'\n",
        "carpetas = os.listdir(path_caras)\n",
        "for archivo in carpetas:\n",
        "  select = os.listdir(path_caras+'/'+archivo)\n",
        "  for persona in select:\n",
        "    try:\n",
        "      cara = face_recognition.load_image_file(path_caras+'/'+archivo+'/'+persona)\n",
        "      cara_encoding = face_recognition.face_encodings(cara)[0]\n",
        "    except IndexError:\n",
        "      print(persona)\n",
        "      print(\"I wasn't able to locate any faces in at least one of the images. Check the image files. Aborting...\")\n",
        "\n",
        "    if(archivo == \"amigos\"):\n",
        "      amigos.append(cara_encoding)\n",
        "    elif (archivo == \"familia\"):\n",
        "      familia.append(cara_encoding)\n",
        "    elif(archivo == \"novia\"):\n",
        "      novia.append(cara_encoding)"
      ],
      "execution_count": 0,
      "outputs": []
    },
    {
      "cell_type": "code",
      "metadata": {
        "id": "fZ1X-Jdg4_9V",
        "colab_type": "code",
        "colab": {}
      },
      "source": [
        "#buscar coincidencias con la base de datos\n",
        "def contar(arr):\n",
        "  count =0\n",
        "  for state in arr:\n",
        "    if(state): count+=1\n",
        "  return count\n"
      ],
      "execution_count": 0,
      "outputs": []
    },
    {
      "cell_type": "code",
      "metadata": {
        "id": "tsuFFxZihhUT",
        "colab_type": "code",
        "colab": {}
      },
      "source": [
        "def match(foto_encoding):\n",
        "  numFam = 0\n",
        "  numAm = 0\n",
        "  numNov = 0\n",
        "  for face in foto_encoding:\n",
        "    coincidencias_familia = face_recognition.compare_faces(familia, face)\n",
        "    numFam+=contar(coincidencias_familia)\n",
        "\n",
        "    coincidencias_novia = (face_recognition.compare_faces(novia, face))\n",
        "    numNov+=contar(coincidencias_novia)\n",
        "\n",
        "    coincidencias_amigos = (face_recognition.compare_faces(amigos, face))\n",
        "    numAm+=contar(coincidencias_amigos)\n",
        "  return {numFam:\"Familia\", numAm:\"Amigos\", numNov:\"Novia\"}\n"
      ],
      "execution_count": 0,
      "outputs": []
    },
    {
      "cell_type": "code",
      "metadata": {
        "id": "g4QSBlFI8UW7",
        "colab_type": "code",
        "colab": {}
      },
      "source": [
        "\n"
      ],
      "execution_count": 0,
      "outputs": []
    },
    {
      "cell_type": "code",
      "metadata": {
        "id": "Pj8TvZTPlnHy",
        "colab_type": "code",
        "colab": {}
      },
      "source": [
        "path_fotos = path + \"fotos/\"\n",
        "for fotoname in os.listdir(path_fotos):\n",
        "  try:\n",
        "    foto_encoding = face_recognition.face_encodings(face_recognition.load_image_file(path_fotos+fotoname))\n",
        "  except IndexError:\n",
        "    print(\"I wasn't able to locate any faces in at least one of the images. Check the image files. Aborting...\")\n",
        "\n",
        "  cantidades =match(foto_encoding)\n",
        "  clasif=(cantidades[sorted(cantidades,reverse=True)[0]])+\"/\"\n",
        "  shutil.move(path_fotos+fotoname, path+clasif+fotoname)\n"
      ],
      "execution_count": 0,
      "outputs": []
    }
  ]
}