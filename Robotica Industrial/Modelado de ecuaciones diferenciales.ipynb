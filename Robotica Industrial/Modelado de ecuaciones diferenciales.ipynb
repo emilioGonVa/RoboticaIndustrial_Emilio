{
 "cells": [
  {
   "cell_type": "code",
   "execution_count": 5,
   "metadata": {},
   "outputs": [],
   "source": [
    "import matplotlib.pyplot as plt\n",
    "import numpy as np\n",
    "from scipy.integrate import odeint\n",
    "%matplotlib inline\n"
   ]
  },
  {
   "cell_type": "code",
   "execution_count": 2,
   "metadata": {},
   "outputs": [
    {
     "data": {
      "text/plain": [
       "Text(0.5, 0, 'tiempo')"
      ]
     },
     "execution_count": 2,
     "metadata": {},
     "output_type": "execute_result"
    },
    {
     "data": {
      "image/png": "[encoded data removed]",
      "text/plain": [
       "<Figure size 432x288 with 1 Axes>"
      ]
     },
     "metadata": {
      "needs_background": "light"
     },
     "output_type": "display_data"
    }
   ],
   "source": [
    "k = 0.3 #Constante del muelle\n",
    "m = 1.0 #Masa\n",
    "B = 0.5 #Constante de mortiguación\n",
    "\n",
    "def armonico(variables,t):\n",
    "    x,y = variables\n",
    "    return [y,-k*x/m-B/m*y]\n",
    "inicial = [0.8,0] #Vector de posición inicial y velocidad inicial\n",
    "#Condiciones iniciales x(t=0)=0.8 [m] y(t=0)=0 [m/s]\n",
    "\n",
    "#Tiempo = np.linspace(0,15) #dominio temporal de 0 a 15\n",
    "tiempo = np.arange(0,20,0.01)\n",
    "\n",
    "resultado= odeint(armonico, inicial, tiempo)\n",
    "#El sistema se resuelve con \n",
    "#odeint(sistema, condiciones iniciales, rango donde graficaremos)\n",
    "\n",
    "xx, yy = resultado.T #extraer posición y velocidad.\n",
    "\n",
    "plt.plot(tiempo, xx, c='r', label='Posicion')\n",
    "plt.plot(tiempo, yy, c='k', label='Velocidad')\n",
    "plt.legend(loc='best', prop = {'size':14})\n",
    "plt.xlabel('tiempo',fontsize = 14)\n"
   ]
  },
  {
   "cell_type": "code",
   "execution_count": 3,
   "metadata": {},
   "outputs": [],
   "source": [
    "from ipywidgets import *"
   ]
  },
  {
   "cell_type": "code",
   "execution_count": 4,
   "metadata": {},
   "outputs": [
    {
     "data": {
      "application/vnd.jupyter.widget-view+json": {
       "model_id": "8c0c203816994e65965ea64953e70b7b",
       "version_major": 2,
       "version_minor": 0
      },
      "text/plain": [
       "interactive(children=(FloatSlider(value=0.0, description='k', max=10.0), FloatSlider(value=1.0, description='m…"
      ]
     },
     "metadata": {},
     "output_type": "display_data"
    },
    {
     "data": {
      "text/plain": [
       "<function __main__.amortiguador(k=0, m=1.0, B=0.5)>"
      ]
     },
     "execution_count": 4,
     "metadata": {},
     "output_type": "execute_result"
    }
   ],
   "source": [
    "def amortiguador(k = 0, m = 1.0, B = 0.5):\n",
    "    def armonico(variables,t):\n",
    "        x,y = variables\n",
    "        return [y,-k*x/m-B/m*y]\n",
    "    inicial = [0.8,0.5] #Vector de posición inicial y velocidad inicial\n",
    "    #Condiciones iniciales x(t=0)=0.8 [m] y(t=0)=0 [m/s]\n",
    "\n",
    "    #Tiempo = np.linspace(0,15) #dominio temporal de 0 a 15\n",
    "    tiempo = np.arange(0,20,0.01)\n",
    "\n",
    "    resultado= odeint(armonico, inicial, tiempo)\n",
    "    #El sistema se resuelve con \n",
    "    #odeint(sistema, condiciones iniciales, rango donde graficaremos)\n",
    "\n",
    "    xx, yy = resultado.T #extraer posición y velocidad.\n",
    "\n",
    "    plt.plot(tiempo, xx, c='r', label='Posicion')\n",
    "    plt.plot(tiempo, yy, c='k', label='Velocidad')\n",
    "    plt.legend(loc='best', prop = {'size':14})\n",
    "    plt.xlabel('tiempo',fontsize = 14)\n",
    "    plt.show()\n",
    "    \n",
    "interact_manual(amortiguador, k = (0,10,0.1), m = (0,10,0.1), B = (0,10,0.1))"
   ]
  },
  {
   "cell_type": "code",
   "execution_count": 6,
   "metadata": {},
   "outputs": [
    {
     "data": {
      "application/vnd.jupyter.widget-view+json": {
       "model_id": "e978dc8bf1964ab8a5bc8b6fba03f85f",
       "version_major": 2,
       "version_minor": 0
      },
      "text/plain": [
       "interactive(children=(FloatSlider(value=1.0, description='r', max=10.0), Button(description='Run Interact', st…"
      ]
     },
     "metadata": {},
     "output_type": "display_data"
    },
    {
     "data": {
      "text/plain": [
       "<function __main__.poblacion(r=1)>"
      ]
     },
     "execution_count": 6,
     "metadata": {},
     "output_type": "execute_result"
    }
   ],
   "source": [
    "def poblacion(r=1):\n",
    "    def pobla(x,t):\n",
    "        return r*x*(1-x)\n",
    "    x0 = 0.05\n",
    "    #Condiciones iniciales x(t=0)=0.8 [m] y(t=0)=0 [m/s]\n",
    "\n",
    "    #Tiempo = np.linspace(0,15) #dominio temporal de 0 a 15\n",
    "    tiempo = np.linspace(0,10)\n",
    "\n",
    "    xx = odeint(pobla, x0, tiempo)\n",
    "    #El sistema se resuelve con \n",
    "    #odeint(sistema, condiciones iniciales, rango donde graficaremos)\n",
    "\n",
    "    plt.plot(tiempo, xx)\n",
    "    plt.xlabel('$t$',fontsize = 14)\n",
    "    plt.ylabel('$x$',fontsize = 14)\n",
    "    plt.show()\n",
    "    \n",
    "interact_manual(poblacion, r=(0,10,0.1))"
   ]
  },
  {
   "cell_type": "code",
   "execution_count": 7,
   "metadata": {},
   "outputs": [
    {
     "data": {
      "application/vnd.jupyter.widget-view+json": {
       "model_id": "9efcfe3af3e24caf94cbd348d4b577dd",
       "version_major": 2,
       "version_minor": 0
      },
      "text/plain": [
       "interactive(children=(FloatSlider(value=0.5, description='R', max=10.0), FloatSlider(value=1.0, description='L…"
      ]
     },
     "metadata": {},
     "output_type": "display_data"
    },
    {
     "data": {
      "text/plain": [
       "<function __main__.robot(R=0.5, L=1.0)>"
      ]
     },
     "execution_count": 7,
     "metadata": {},
     "output_type": "execute_result"
    }
   ],
   "source": [
    "def robot(R = 0.5, L = 1.0):\n",
    "    vr = 2.0\n",
    "    vt = 0.5*vr\n",
    "    def comportamiento(variables,t):\n",
    "        x,y,phi = variables\n",
    "        return [R/2*(vr+vt)*np.cos(phi), R/2*(vr+vt)*np.sin(phi), R/L*(vr-vt)]\n",
    "    inicial = [0,0,0]\n",
    "   \n",
    "    tiempo = np.arange(0,20,0.01)\n",
    "\n",
    "    resultado= odeint(comportamiento, inicial, tiempo)\n",
    "    #El sistema se resuelve con \n",
    "    #odeint(sistema, condiciones iniciales, rango donde graficaremos)\n",
    "\n",
    "    xx = resultado[:,0] \n",
    "    yy = resultado[:,1]\n",
    "\n",
    "    plt.plot(xx,yy, c='r')\n",
    "    plt.xlabel('tiempo',fontsize = 14)\n",
    "    plt.show()\n",
    "    \n",
    "interact_manual(robot, R = (0,10,0.1), L = (0,10,0.1))"
   ]
  },
  {
   "cell_type": "code",
   "execution_count": null,
   "metadata": {},
   "outputs": [],
   "source": []
  }
 ],
 "metadata": {
  "kernelspec": {
   "display_name": "Python 3",
   "language": "python",
   "name": "python3"
  },
  "language_info": {
   "codemirror_mode": {
    "name": "ipython",
    "version": 3
   },
   "file_extension": ".py",
   "mimetype": "text/x-python",
   "name": "python",
   "nbconvert_exporter": "python",
   "pygments_lexer": "ipython3",
   "version": "3.7.4"
  }
 },
 "nbformat": 4,
 "nbformat_minor": 2
}
